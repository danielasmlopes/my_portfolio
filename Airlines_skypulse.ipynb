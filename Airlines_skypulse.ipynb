{
 "cells": [
  {
   "cell_type": "markdown",
   "metadata": {},
   "source": [
    "# SkyPulse: Analyzing Air Travel Dynamics for Strategic Insights"
   ]
  },
  {
   "cell_type": "markdown",
   "metadata": {},
   "source": [
    "### Data Description\n",
    "\n",
    "In my project, i'm working with 8 tables stored in an SQLite database. Here's a brief overview of each table:\n",
    "\n",
    "aircrafts_data: This table contains information about aircraft, such as their unique identifiers, the type of aircraft, and the number of seats available. \n",
    "\n",
    "airports_data: This table holds data related to airports. It includes details such as airport codes, names, locations, and other relevant information. \n",
    "\n",
    "boarding_passes: This table records information about boarding passes issued for flights. It captures details such as the ticket number, seat number, boarding time, and boarding pass ID.\n",
    "\n",
    "bookings: The bookings table contains data regarding flight bookings made by passengers. It likely includes details such as booking IDs, passenger information, and flight details. \n",
    "\n",
    "flights: This table records information about flights, including details such as flight numbers, departure times, arrival times, origins, destinations, and other flight-related data.\n",
    "\n",
    "seats: The seats table contains data regarding seating arrangements on flights. It likely includes details such as seat numbers, seat types, and availability. \n",
    "\n",
    "ticket_flights: This table establishes the relationship between tickets and flights. It likely contains details such as ticket numbers, corresponding flight numbers, and other relevant information. \n",
    "\n",
    "tickets: The tickets table contains data related to individual tickets purchased by passengers. It may include details such as ticket numbers, passenger information, and fare details. "
   ]
  },
  {
   "cell_type": "markdown",
   "metadata": {},
   "source": [
    "![Airlines Database Structure](airlines.drawio.png)"
   ]
  },
  {
   "cell_type": "markdown",
   "metadata": {},
   "source": [
    "First, let's bring in the libraries I need."
   ]
  },
  {
   "cell_type": "code",
   "execution_count": 1,
   "metadata": {},
   "outputs": [],
   "source": [
    "# Data extraction (SQLite)\n",
    "import sqlite3  \n",
    "import json\n",
    "\n",
    "# Data manipulation\n",
    "import numpy as np  \n",
    "import pandas as pd  \n",
    "\n",
    "# Data visualization\n",
    "import matplotlib.pyplot as plt  \n",
    "import plotly.express as px   \n",
    "import seaborn as sns\n",
    "\n",
    "# Modeling\n",
    "from scipy.stats import ttest_ind\n"
   ]
  },
  {
   "cell_type": "markdown",
   "metadata": {},
   "source": [
    "### Initiating Database Connection\n",
    "\n",
    "At this stage, I'll set up the connection to the Airlines database to examine its structure. I'll start by establishing a connection, then proceed to investigate the tables contained within the database. "
   ]
  },
  {
   "cell_type": "code",
   "execution_count": 2,
   "metadata": {},
   "outputs": [
    {
     "name": "stdout",
     "output_type": "stream",
     "text": [
      "    type             name         tbl_name  rootpage  \\\n",
      "0  table   aircrafts_data   aircrafts_data         2   \n",
      "1  table    airports_data    airports_data         3   \n",
      "2  table  boarding_passes  boarding_passes         4   \n",
      "3  table         bookings         bookings         5   \n",
      "4  table          flights          flights         6   \n",
      "5  table            seats            seats         7   \n",
      "6  table   ticket_flights   ticket_flights         8   \n",
      "7  table          tickets          tickets         9   \n",
      "\n",
      "                                                 sql  \n",
      "0  CREATE TABLE aircrafts_data (\\r\\n    aircraft_...  \n",
      "1  CREATE TABLE airports_data (\\r\\n    airport_co...  \n",
      "2  CREATE TABLE boarding_passes (\\r\\n    ticket_n...  \n",
      "3  CREATE TABLE bookings (\\r\\n    book_ref charac...  \n",
      "4  CREATE TABLE flights (\\r\\n    flight_id intege...  \n",
      "5  CREATE TABLE seats (\\r\\n    aircraft_code char...  \n",
      "6  CREATE TABLE ticket_flights (\\r\\n    ticket_no...  \n",
      "7  CREATE TABLE tickets (\\r\\n    ticket_no charac...  \n"
     ]
    }
   ],
   "source": [
    "\n",
    "path = \"C:\\\\Users\\\\user\\\\Desktop\\\\Github Projects for Portfolio\\\\Airlines Dataset\\\\archive\\\\\"  \n",
    "airlines_db = path + 'travel.sqlite'\n",
    "\n",
    "conn = sqlite3.connect(airlines_db)\n",
    "\n",
    "all_tables = pd.read_sql(\"\"\"SELECT *\n",
    "                        FROM sqlite_master\n",
    "                        WHERE type='table';\"\"\", conn)\n",
    "\n",
    "print(all_tables)"
   ]
  },
  {
   "cell_type": "markdown",
   "metadata": {},
   "source": [
    "### Load data from the database 'conn' into DataFrames\n",
    "\n",
    "I'm creating separate Pandas DataFrames to store the data retrieved from each table in the airline database. Each DataFrame corresponds to a specific table and holds all the rows and columns of data from that table."
   ]
  },
  {
   "cell_type": "code",
   "execution_count": 3,
   "metadata": {},
   "outputs": [],
   "source": [
    "\n",
    "aircrafts = pd.read_sql(\"\"\"SELECT *\n",
    "                                FROM aircrafts_data;\"\"\", conn)\n",
    "\n",
    "airports = pd.read_sql(\"\"\"SELECT *\n",
    "                                FROM airports_data;\"\"\", conn)\n",
    "\n",
    "boarding_passes = pd.read_sql(\"\"\"SELECT *\n",
    "                        FROM boarding_passes;\"\"\", conn)\n",
    "\n",
    "bookings = pd.read_sql(\"\"\"SELECT *\n",
    "                        FROM bookings;\"\"\", conn)\n",
    "\n",
    "flights = pd.read_sql(\"\"\"SELECT *\n",
    "                        FROM flights;\"\"\", conn)\n",
    "seats = pd.read_sql(\"\"\"SELECT *\n",
    "                        FROM seats;\"\"\", conn)\n",
    "ticket_flights = pd.read_sql(\"\"\"SELECT *\n",
    "                        FROM ticket_flights;\"\"\", conn)\n",
    "\n",
    "tickets = pd.read_sql(\"\"\"SELECT *\n",
    "                        FROM tickets;\"\"\", conn)\n"
   ]
  },
  {
   "cell_type": "markdown",
   "metadata": {},
   "source": [
    "### Data Transformation\n",
    "\n",
    "This dataset is based on airlines information of Russian airports.\n",
    "\n",
    "Certain columns store information in JSON format, containing descriptions in both English and Russian. \n",
    "\n",
    "To streamline my analysis and focus on English-language data, I created a function that extracts only the English names from these JSON columns. \n",
    "\n",
    "By doing so, I ensure that the analysis primarily considers English-language information, which is essential for consistency and clarity."
   ]
  },
  {
   "cell_type": "code",
   "execution_count": 4,
   "metadata": {},
   "outputs": [],
   "source": [
    "# Function to extract english names from JSON columns\n",
    "def extract_en_names(row, columns):\n",
    "    \"\"\"\n",
    "    Extracts english names from columns containing JSON-encoded data.\n",
    "\n",
    "    Args:\n",
    "        row (pandas.Series): A row of data from the DataFrame.\n",
    "        columns (list): List of column names to extract names from.\n",
    "\n",
    "    Returns:\n",
    "        pandas.Series: Series containing extracted names.\n",
    "\n",
    "    \"\"\"\n",
    "    result = {}\n",
    "    for column in columns:\n",
    "        names = json.loads(row[column])\n",
    "        result[column + '_en'] = names['en']\n",
    "    return pd.Series(result)\n",
    "\n",
    "\n",
    "# Columns to apply the function extract_en_names\n",
    "extract_aircraft = ['model']\n",
    "extract_airports = ['airport_name', 'city']\n",
    "\n",
    "# Applying the extract_en_names function to database aircrat and airports\n",
    "aircrafts = aircrafts.join(aircrafts.apply(lambda row: extract_en_names(row, extract_aircraft), axis=1))\n",
    "airports = airports.join(airports.apply(lambda row: extract_en_names(row, extract_airports), axis=1))\n",
    "\n",
    "# Removing the original json columns\n",
    "aircrafts.drop(columns=extract_aircraft, inplace=True)\n",
    "airports.drop(columns=extract_airports, inplace=True)\n"
   ]
  },
  {
   "cell_type": "markdown",
   "metadata": {},
   "source": [
    "## Data Exploration"
   ]
  },
  {
   "cell_type": "markdown",
   "metadata": {},
   "source": [
    "Let's take a look at the arilines data, and check if there are missing data and duplicate values."
   ]
  },
  {
   "cell_type": "code",
   "execution_count": 5,
   "metadata": {},
   "outputs": [
    {
     "name": "stdout",
     "output_type": "stream",
     "text": [
      "Table: aircrafts\n",
      "<class 'pandas.core.frame.DataFrame'>\n",
      "RangeIndex: 9 entries, 0 to 8\n",
      "Data columns (total 3 columns):\n",
      " #   Column         Non-Null Count  Dtype \n",
      "---  ------         --------------  ----- \n",
      " 0   aircraft_code  9 non-null      object\n",
      " 1   range          9 non-null      int64 \n",
      " 2   model_en       9 non-null      object\n",
      "dtypes: int64(1), object(2)\n",
      "memory usage: 348.0+ bytes\n",
      "{'rows': 9, 'columns': 3, 'missing_values': 0, 'duplicates': 0, 'info': None}\n",
      "Table: airports\n",
      "<class 'pandas.core.frame.DataFrame'>\n",
      "RangeIndex: 104 entries, 0 to 103\n",
      "Data columns (total 5 columns):\n",
      " #   Column           Non-Null Count  Dtype \n",
      "---  ------           --------------  ----- \n",
      " 0   airport_code     104 non-null    object\n",
      " 1   coordinates      104 non-null    object\n",
      " 2   timezone         104 non-null    object\n",
      " 3   airport_name_en  104 non-null    object\n",
      " 4   city_en          104 non-null    object\n",
      "dtypes: object(5)\n",
      "memory usage: 4.2+ KB\n",
      "{'rows': 104, 'columns': 5, 'missing_values': 0, 'duplicates': 0, 'info': None}\n",
      "Table: boarding_passes\n",
      "<class 'pandas.core.frame.DataFrame'>\n",
      "RangeIndex: 579686 entries, 0 to 579685\n",
      "Data columns (total 4 columns):\n",
      " #   Column       Non-Null Count   Dtype \n",
      "---  ------       --------------   ----- \n",
      " 0   ticket_no    579686 non-null  object\n",
      " 1   flight_id    579686 non-null  int64 \n",
      " 2   boarding_no  579686 non-null  int64 \n",
      " 3   seat_no      579686 non-null  object\n",
      "dtypes: int64(2), object(2)\n",
      "memory usage: 17.7+ MB\n",
      "{'rows': 579686, 'columns': 4, 'missing_values': 0, 'duplicates': 0, 'info': None}\n",
      "Table: bookings\n",
      "<class 'pandas.core.frame.DataFrame'>\n",
      "RangeIndex: 262788 entries, 0 to 262787\n",
      "Data columns (total 3 columns):\n",
      " #   Column        Non-Null Count   Dtype \n",
      "---  ------        --------------   ----- \n",
      " 0   book_ref      262788 non-null  object\n",
      " 1   book_date     262788 non-null  object\n",
      " 2   total_amount  262788 non-null  int64 \n",
      "dtypes: int64(1), object(2)\n",
      "memory usage: 6.0+ MB\n",
      "{'rows': 262788, 'columns': 3, 'missing_values': 0, 'duplicates': 0, 'info': None}\n",
      "Table: flights\n",
      "<class 'pandas.core.frame.DataFrame'>\n",
      "RangeIndex: 33121 entries, 0 to 33120\n",
      "Data columns (total 10 columns):\n",
      " #   Column               Non-Null Count  Dtype \n",
      "---  ------               --------------  ----- \n",
      " 0   flight_id            33121 non-null  int64 \n",
      " 1   flight_no            33121 non-null  object\n",
      " 2   scheduled_departure  33121 non-null  object\n",
      " 3   scheduled_arrival    33121 non-null  object\n",
      " 4   departure_airport    33121 non-null  object\n",
      " 5   arrival_airport      33121 non-null  object\n",
      " 6   status               33121 non-null  object\n",
      " 7   aircraft_code        33121 non-null  object\n",
      " 8   actual_departure     33121 non-null  object\n",
      " 9   actual_arrival       33121 non-null  object\n",
      "dtypes: int64(1), object(9)\n",
      "memory usage: 2.5+ MB\n",
      "{'rows': 33121, 'columns': 10, 'missing_values': 0, 'duplicates': 0, 'info': None}\n",
      "Table: seats\n",
      "<class 'pandas.core.frame.DataFrame'>\n",
      "RangeIndex: 1339 entries, 0 to 1338\n",
      "Data columns (total 3 columns):\n",
      " #   Column           Non-Null Count  Dtype \n",
      "---  ------           --------------  ----- \n",
      " 0   aircraft_code    1339 non-null   object\n",
      " 1   seat_no          1339 non-null   object\n",
      " 2   fare_conditions  1339 non-null   object\n",
      "dtypes: object(3)\n",
      "memory usage: 31.5+ KB\n",
      "{'rows': 1339, 'columns': 3, 'missing_values': 0, 'duplicates': 0, 'info': None}\n",
      "Table: ticket_flights\n",
      "<class 'pandas.core.frame.DataFrame'>\n",
      "RangeIndex: 1045726 entries, 0 to 1045725\n",
      "Data columns (total 4 columns):\n",
      " #   Column           Non-Null Count    Dtype \n",
      "---  ------           --------------    ----- \n",
      " 0   ticket_no        1045726 non-null  object\n",
      " 1   flight_id        1045726 non-null  int64 \n",
      " 2   fare_conditions  1045726 non-null  object\n",
      " 3   amount           1045726 non-null  int64 \n",
      "dtypes: int64(2), object(2)\n",
      "memory usage: 31.9+ MB\n",
      "{'rows': 1045726, 'columns': 4, 'missing_values': 0, 'duplicates': 0, 'info': None}\n",
      "Table: tickets\n",
      "<class 'pandas.core.frame.DataFrame'>\n",
      "RangeIndex: 366733 entries, 0 to 366732\n",
      "Data columns (total 3 columns):\n",
      " #   Column        Non-Null Count   Dtype \n",
      "---  ------        --------------   ----- \n",
      " 0   ticket_no     366733 non-null  object\n",
      " 1   book_ref      366733 non-null  object\n",
      " 2   passenger_id  366733 non-null  object\n",
      "dtypes: object(3)\n",
      "memory usage: 8.4+ MB\n",
      "{'rows': 366733, 'columns': 3, 'missing_values': 0, 'duplicates': 0, 'info': None}\n"
     ]
    }
   ],
   "source": [
    "# List of DataFrames of airlines\n",
    "airlines_df = [aircrafts, airports, boarding_passes, bookings, flights, seats, ticket_flights, tickets]\n",
    "\n",
    "# Define a function to inspect each Dataframe\n",
    "def inspect_data(df):\n",
    "    \"\"\"\n",
    "    Generate a summary of the DataFrame including:\n",
    "    - Number of rows\n",
    "    - Number of columns\n",
    "    - Total number of missing values\n",
    "    - Total number of duplicate rows\n",
    "    - Information about the DataFrame (data types, non-null counts, memory usage)\n",
    "    \"\"\"\n",
    "    summary = {\n",
    "        'rows': df.shape[0],                        # Number of rows in the DataFrame\n",
    "        'columns': df.shape[1],                     # Number of columns in the DataFrame\n",
    "        'missing_values': df.isnull().sum().sum(),  # Total number of missing values in the DataFrame\n",
    "        'duplicates': df.duplicated().sum(),        # Total number of duplicate rows in the DataFrame\n",
    "        'info': df.info(),                          # DataFrame information (prints to console)\n",
    "    }\n",
    "    return summary\n",
    "\n",
    "# Loop through each DataFrame in the list to inspect its content and structure\n",
    "for table in airlines_df:\n",
    "    # Print the name of the table by matching the DataFrame object with its variable name\n",
    "    print(\"Table:\", [name for name, obj in globals().items() if obj is table][0])\n",
    "    \n",
    "    # Print the summary of the DataFrame\n",
    "    print(inspect_data(table))\n"
   ]
  },
  {
   "cell_type": "markdown",
   "metadata": {},
   "source": [
    "Onservations: \n",
    "All dataframes are clean, with no missing values or duplicate rows. This indicates high data quality, making it ready for further analysis or processing without the need for additional cleaning steps."
   ]
  },
  {
   "cell_type": "markdown",
   "metadata": {},
   "source": [
    "## Question 1: Demand for routes - What is the most popular route based on the number of bookings? And the least popular route?"
   ]
  },
  {
   "cell_type": "markdown",
   "metadata": {},
   "source": [
    "### 1.1 Merge Dataframes\n",
    "\n",
    "As indicated by the database structure diagram, the 'boarding passes' dataframe captures individual instances of passengers boarding flights. \n",
    "\n",
    "To establish a direct connection between each boarding pass and its corresponding flight, I will merge the boarding passes data with the flights data. This merge enables us to link specific flight details (such as departure time, arrival time, and flight number) to each boarding pass to determine the route."
   ]
  },
  {
   "cell_type": "code",
   "execution_count": 6,
   "metadata": {},
   "outputs": [],
   "source": [
    "# Merge boarding_passes DataFrame with flights DataFrame based on variable 'flight_id'\n",
    "boarding_flights = pd.merge(boarding_passes, flights, how='inner', on='flight_id')\n",
    "\n",
    "# Merge the result with 'airports' DataFrame to get departure airport information\n",
    "boarding_flights_airport = pd.merge(boarding_flights, airports, how='inner', left_on='departure_airport', right_on='airport_code')\n",
    "\n",
    "# Merge the result again with airports DataFrame to get arrival airport information\n",
    "boarding_flights_airport = pd.merge(boarding_flights_airport, airports, how='inner', left_on='arrival_airport', right_on='airport_code')\n"
   ]
  },
  {
   "cell_type": "markdown",
   "metadata": {},
   "source": [
    "### 1.2  Understand my Data"
   ]
  },
  {
   "cell_type": "code",
   "execution_count": 7,
   "metadata": {},
   "outputs": [
    {
     "name": "stdout",
     "output_type": "stream",
     "text": [
      "<class 'pandas.core.frame.DataFrame'>\n",
      "RangeIndex: 579686 entries, 0 to 579685\n",
      "Data columns (total 23 columns):\n",
      " #   Column               Non-Null Count   Dtype \n",
      "---  ------               --------------   ----- \n",
      " 0   ticket_no            579686 non-null  object\n",
      " 1   flight_id            579686 non-null  int64 \n",
      " 2   boarding_no          579686 non-null  int64 \n",
      " 3   seat_no              579686 non-null  object\n",
      " 4   flight_no            579686 non-null  object\n",
      " 5   scheduled_departure  579686 non-null  object\n",
      " 6   scheduled_arrival    579686 non-null  object\n",
      " 7   departure_airport    579686 non-null  object\n",
      " 8   arrival_airport      579686 non-null  object\n",
      " 9   status               579686 non-null  object\n",
      " 10  aircraft_code        579686 non-null  object\n",
      " 11  actual_departure     579686 non-null  object\n",
      " 12  actual_arrival       579686 non-null  object\n",
      " 13  airport_code_x       579686 non-null  object\n",
      " 14  coordinates_x        579686 non-null  object\n",
      " 15  timezone_x           579686 non-null  object\n",
      " 16  airport_name_en_x    579686 non-null  object\n",
      " 17  city_en_x            579686 non-null  object\n",
      " 18  airport_code_y       579686 non-null  object\n",
      " 19  coordinates_y        579686 non-null  object\n",
      " 20  timezone_y           579686 non-null  object\n",
      " 21  airport_name_en_y    579686 non-null  object\n",
      " 22  city_en_y            579686 non-null  object\n",
      "dtypes: int64(2), object(21)\n",
      "memory usage: 101.7+ MB\n",
      "{'rows': 579686, 'columns': 23, 'missing_values': 0, 'duplicates': 0, 'info': None}\n"
     ]
    }
   ],
   "source": [
    "# The data types of dataframe 'boarding_flights_airport' for all columns\n",
    "print(inspect_data(boarding_flights_airport))"
   ]
  },
  {
   "cell_type": "code",
   "execution_count": 8,
   "metadata": {},
   "outputs": [
    {
     "name": "stdout",
     "output_type": "stream",
     "text": [
      "Year: [2017]\n",
      "Months: [7, 8]\n",
      "Days: [1, 2, 3, 4, 5, 6, 7, 8, 9, 10, 11, 12, 13, 14, 15, 16, 17, 18, 19, 20, 21, 22, 23, 24, 25, 26, 27, 28, 29, 30, 31]\n"
     ]
    }
   ],
   "source": [
    "# Convert the 'scheduled_arrival' column to datetime format\n",
    "boarding_flights_airport['date_arrival'] = pd.to_datetime(boarding_flights_airport['scheduled_arrival'])\n",
    "\n",
    "# Extract the day, month, and year from the 'date' column\n",
    "boarding_flights_airport['day_arrival'] = boarding_flights_airport['date_arrival'].dt.day\n",
    "boarding_flights_airport['month_arrival'] = boarding_flights_airport['date_arrival'].dt.month\n",
    "boarding_flights_airport['year_arrival'] = boarding_flights_airport['date_arrival'].dt.year\n",
    "\n",
    "# Print the unique years, months and days in the dataset\n",
    "print('Year:', sorted(boarding_flights_airport['year_arrival'].unique()))\n",
    "print('Months:', sorted(boarding_flights_airport['month_arrival'].unique()))\n",
    "print('Days:', sorted(boarding_flights_airport['day_arrival'].unique()))\n"
   ]
  },
  {
   "cell_type": "markdown",
   "metadata": {},
   "source": [
    "#### Observations:\n",
    "\n",
    "* The new DataFrame 'boarding_flights_airport' contains 23 columns and 569,686 rows, representing flights.\n",
    "* There are no missing values or duplicates in the data.\n",
    "* 21 columns have string data type, while 2 columns are integers.\n",
    "* The DataFrame contains flight data exclusively from the year 2017, specifically covering the months of July (7) and August (8). It includes information of fligth arrivals for every day within these two months, spanning from July 1st to August 31st. "
   ]
  },
  {
   "cell_type": "markdown",
   "metadata": {},
   "source": [
    "### 1.3 Analyze Flight Routes\n",
    "\n",
    "The 'boarding_flights_airport' dataset contained coordinates for departure and arrival locations in a string format within the columns coordinates_x and coordinates_y, respectively. These coordinates need to be structured as \"(longitude, latitude)\" for further geospatial analysis, such as mapping flight routes, and analyzing geographic patterns."
   ]
  },
  {
   "cell_type": "code",
   "execution_count": 9,
   "metadata": {},
   "outputs": [],
   "source": [
    "# Extracting departure airport coordinates\n",
    "boarding_flights_airport['latitude_departure'] = boarding_flights_airport['coordinates_x'].apply(lambda x: float(x.split(',')[1][0:-1]))\n",
    "boarding_flights_airport['longitude_departure'] = boarding_flights_airport['coordinates_x'].apply(lambda x: float(x.split(',')[0][1:]))\n",
    "\n",
    "# Extracting arrival airport coordinates\n",
    "boarding_flights_airport['latitude_arrival'] = boarding_flights_airport['coordinates_y'].apply(lambda x: float(x.split(',')[1][0:-1]))\n",
    "boarding_flights_airport['longitude_arrival'] = boarding_flights_airport['coordinates_y'].apply(lambda x: float(x.split(',')[0][1:]))"
   ]
  },
  {
   "cell_type": "markdown",
   "metadata": {},
   "source": [
    "### 1.4 Identifying Major Hubs and Spokes \n",
    "\n",
    "I will start to identify the primary hubs, which are airports (city) with the highest number of flights, and spokes, which are airports with fewer flights. By understanding the network of flights and the distribution of traffic among airports, I can gain insights into the dynamics of this air travel and the importance of specific airports within the network. "
   ]
  },
  {
   "cell_type": "code",
   "execution_count": 10,
   "metadata": {},
   "outputs": [
    {
     "name": "stdout",
     "output_type": "stream",
     "text": [
      "Nr. of unique departure cities: 91 \n",
      "\n",
      "  City_of_Departure  Nr_of_Flights\n",
      "0            Abakan             68\n",
      "1            Anadyr              5\n",
      "2             Anapa             62\n",
      "3       Arkhangelsk            120\n",
      "4         Astrakhan             70\n"
     ]
    }
   ],
   "source": [
    "# Group the 'boarding_flights_airport' DataFrame by departure city and count the number of unique flight IDs for each city\n",
    "departure_counts = boarding_flights_airport.groupby('city_en_x')['flight_id'].nunique().reset_index()\n",
    "\n",
    "# Rename the columns for clarity\n",
    "departure_counts.columns = ['City_of_Departure', 'Nr_of_Flights']\n",
    "\n",
    "# Print the number of unique departure cities\n",
    "print('Nr. of unique departure cities:', departure_counts.shape[0], '\\n')\n",
    "print(departure_counts.head(5))\n"
   ]
  },
  {
   "cell_type": "markdown",
   "metadata": {},
   "source": [
    "To understand how flights are distributed across cities, i'll visualize the number of flights per city. \n",
    "\n",
    "Since the 'boarding_flights_airport dataset has 91 cities, four subplots were create to make it easier to visualize. \n",
    "\n",
    "A logarithmic scale was use to better represent the range of flight frequencies across cities."
   ]
  },
  {
   "cell_type": "code",
   "execution_count": 11,
   "metadata": {},
   "outputs": [
    {
     "name": "stderr",
     "output_type": "stream",
     "text": [
      "c:\\Users\\user\\anaconda3\\envs\\Learning\\Lib\\site-packages\\numpy\\core\\fromnumeric.py:59: FutureWarning: 'DataFrame.swapaxes' is deprecated and will be removed in a future version. Please use 'DataFrame.transpose' instead.\n",
      "  return bound(*args, **kwds)\n"
     ]
    },
    {
     "data": {
      "image/png": "[encoded data removed]",
      "text/plain": [
       "<Figure size 1800x1000 with 4 Axes>"
      ]
     },
     "metadata": {},
     "output_type": "display_data"
    }
   ],
   "source": [
    "# Defining the number of subplots, rows, and columns\n",
    "num_subplots, rows, cols = 4, 2, 2\n",
    "\n",
    "# Split the departure_counts DataFrame into multiple sub-dataframes based on the number of subplots\n",
    "split_data = np.array_split(departure_counts, num_subplots)\n",
    "\n",
    "# Create a figure and an array of subplots with the specified number of rows and columns\n",
    "fig, axes = plt.subplots(rows, cols, figsize=(18, 10), sharey=True)\n",
    "\n",
    "# Flatten the array of subplots to iterate over them easily\n",
    "axes = axes.flatten()\n",
    "\n",
    "for i in range(num_subplots):\n",
    "    # Get the current subplot\n",
    "    ax = axes[i]\n",
    "    # Plot a bar graph for the current subplot using seaborn\n",
    "    sns.barplot(x='City_of_Departure', y='Nr_of_Flights', data=split_data[i], ax=ax, hue='Nr_of_Flights')\n",
    "    ax.set_title(f'Group of Cities {i+1}')\n",
    "    ax.set_xlabel('City')\n",
    "    ax.set_ylabel('Number of Unique Flights')\n",
    "    ax.set_yscale('log')\n",
    "    ax.tick_params(axis='x', rotation=45) # Rotate x-axis labels for better readability\n",
    "\n",
    "plt.tight_layout()   # Adjust the layout of subplots to prevent overlap\n",
    "plt.show()\n"
   ]
  },
  {
   "cell_type": "code",
   "execution_count": 12,
   "metadata": {},
   "outputs": [
    {
     "name": "stdout",
     "output_type": "stream",
     "text": [
      "Cities with Most Departure Flights (Hubs):\n",
      "    City_of_Departure  Nr_of_Flights\n",
      "40            Moscow           3358\n",
      "69    St. Petersburg            658\n",
      "52       Novosibirsk            332\n",
      "59              Perm            239\n",
      "89     Yekaterinburg            226\n",
      "53      Novy Urengoy            195\n",
      "80         Ulyanovsk            193\n",
      "67             Sochi            180\n",
      "68         Sovetskiy            176\n",
      "62            Rostov            169 \n",
      "\n",
      "Cities with Less Departure Flights (Spokes):\n",
      "      City_of_Departure  Nr_of_Flights\n",
      "18       Gorno-Altaysk              3\n",
      "55              Nyagan              3\n",
      "1               Anadyr              5\n",
      "71          Strezhevoy              5\n",
      "14         Cherepovets              7\n",
      "35             Magadan              7\n",
      "46           Neryungri              8\n",
      "82              Usinsk              8\n",
      "30  Komsomolsk-on-Amur              9\n",
      "60       Petropavlovsk             13\n"
     ]
    },
    {
     "data": {
      "image/png": "[encoded data removed]",
      "text/plain": [
       "<Figure size 600x400 with 1 Axes>"
      ]
     },
     "metadata": {},
     "output_type": "display_data"
    },
    {
     "data": {
      "image/png": "[encoded data removed]",
      "text/plain": [
       "<Figure size 600x400 with 1 Axes>"
      ]
     },
     "metadata": {},
     "output_type": "display_data"
    }
   ],
   "source": [
    "# Defining the number of top cities \n",
    "top = 10\n",
    "\n",
    "# Sort the departure_counts DataFrame by the number of flights in descending order to get top hubs\n",
    "hubs = departure_counts.sort_values(by='Nr_of_Flights', ascending=False).head(top)\n",
    "\n",
    "# Sort the departure_counts DataFrame by the number of flights in ascending order to get top spokes\n",
    "spokes = departure_counts.sort_values(by='Nr_of_Flights', ascending=True).head(top)\n",
    "\n",
    "# Print the top hubs and spokes\n",
    "print('Cities with Most Departure Flights (Hubs):\\n', hubs, '\\n')\n",
    "print('Cities with Less Departure Flights (Spokes):\\n', spokes)\n",
    "\n",
    "plt.figure(figsize=(6, 4))\n",
    "sns.barplot(x='Nr_of_Flights', y='City_of_Departure', hue='Nr_of_Flights', data=hubs)\n",
    "plt.title('Top City Hubs by Nr of Flights')\n",
    "plt.xlabel('Number of Flights')\n",
    "plt.ylabel('Airport City')\n",
    "plt.legend(title='Nr_of_Flights')\n",
    "plt.tight_layout()\n",
    "plt.show()\n",
    "\n",
    "plt.figure(figsize=(6, 4))\n",
    "sns.barplot(x='Nr_of_Flights', y='City_of_Departure', hue='Nr_of_Flights', data=spokes)\n",
    "plt.title('Top City Spokes by Nr of Flights')\n",
    "plt.xlabel('Number of Flights')\n",
    "plt.ylabel('Airport City')\n",
    "plt.legend(title='Nr_of_Flights')\n",
    "plt.tight_layout()\n",
    "plt.show()\n",
    "\n"
   ]
  },
  {
   "cell_type": "markdown",
   "metadata": {},
   "source": [
    "Observations: \n",
    "- There are 91 cities with fligth departures.\n",
    "- The city with the highest number of flights is Moscow, with 3,358 flights. \n",
    "- The cities with the fewest flights are Gorno-Altaysk and Nyagan, each with only 3 flights. "
   ]
  },
  {
   "cell_type": "markdown",
   "metadata": {},
   "source": [
    "## Question 2: Demand for routes: What is the most popular route based on the number of bookings? And the least popular route?\n",
    "\n",
    "Let's assume that the number of tickets (variable 'tickets_no') are the number of bookings."
   ]
  },
  {
   "cell_type": "markdown",
   "metadata": {},
   "source": [
    "### 2.1 Analysis of Ticket Sales by Route"
   ]
  },
  {
   "cell_type": "code",
   "execution_count": 13,
   "metadata": {},
   "outputs": [
    {
     "name": "stdout",
     "output_type": "stream",
     "text": [
      "The most popular route is: SVO-LED (Moscow - St. Petersburg) 9757 with tickets sold, accounting for 1.6832 % of total tickets sold.\n",
      "The least popular route is: CEK-SWT (Chelyabinsk - Strezhevoy) with 8 tickets sold, accounting for 0.0014 % of total tickets sold.\n"
     ]
    }
   ],
   "source": [
    "# Group the data by route and count the number of tickets on each route\n",
    "route_ticket_counts = boarding_flights_airport.groupby(['departure_airport', 'latitude_departure', 'longitude_departure', 'city_en_x',            \n",
    "                                                        'arrival_airport','latitude_arrival','longitude_arrival','city_en_y']).size().reset_index(name='num_tickets')\n",
    "\n",
    "\n",
    "total_tickets_sold = route_ticket_counts['num_tickets'].sum()\n",
    "\n",
    "# Calculate percentage of tickets sold for each route\n",
    "route_ticket_counts['percentage'] = (route_ticket_counts['num_tickets'] / total_tickets_sold) * 100\n",
    "\n",
    "# Find the route with the highest number of tickets and its percentage\n",
    "popular_route = route_ticket_counts.loc[route_ticket_counts['num_tickets'].idxmax()]\n",
    "popular_route_percentage = \"{:.4f}\".format(popular_route['percentage'])\n",
    "\n",
    "# Find the route with the least number of tickets and its percentage\n",
    "unpopular_route = route_ticket_counts.loc[route_ticket_counts['num_tickets'].idxmin()]\n",
    "unpopular_route_percentage = \"{:.4f}\".format(unpopular_route['percentage'])\n",
    "\n",
    "print(\"The most popular route is:\", popular_route['departure_airport'] + '-' + popular_route['arrival_airport'], '(' + popular_route['city_en_x'] + ' - ' + popular_route['city_en_y'] + \")\", popular_route['num_tickets'], \"with\", \"tickets sold, accounting for\", popular_route_percentage, \"% of total tickets sold.\")\n",
    "\n",
    "\n",
    "print(\"The least popular route is:\", unpopular_route['departure_airport'] + '-' + unpopular_route['arrival_airport'], '(' + unpopular_route['city_en_x'] + ' - ' + unpopular_route['city_en_y'] + \")\", \"with\", unpopular_route['num_tickets'], \"tickets sold, accounting for\", unpopular_route_percentage, \"% of total tickets sold.\")\n",
    "\n"
   ]
  },
  {
   "cell_type": "markdown",
   "metadata": {},
   "source": [
    "### 2.2 Visualizing Ticket Sales on a Geographical Map"
   ]
  },
  {
   "cell_type": "markdown",
   "metadata": {},
   "source": [
    "To understand the spatial distribution of ticket sales and identify regions of high demand, I will start to the create an interactive scatter map, using as reference the coordinates of departure airport city."
   ]
  },
  {
   "cell_type": "code",
   "execution_count": 14,
   "metadata": {},
   "outputs": [
    {
     "data": {
      "application/vnd.plotly.v1+json": {
       "config": {
        "plotlyServerURL": "https://plot.ly"
       },
       "data": [
        {
         "customdata": [
          [
           1961
          ],
          [
           2981
          ],
          [
           466
          ],
          [
           217
          ],
          [
           258
          ],
          [
           132
          ],
          [
           111
          ],
          [
           63
          ],
          [
           298
          ],
          [
           3656
          ],
          [
           134
          ],
          [
           997
          ],
          [
           7767
          ],
          [
           3645
          ],
          [
           988
          ],
          [
           208
          ],
          [
           925
          ],
          [
           225
          ],
          [
           138
          ],
          [
           149
          ],
          [
           227
          ],
          [
           567
          ],
          [
           623
          ],
          [
           238
          ],
          [
           472
          ],
          [
           436
          ],
          [
           484
          ],
          [
           1021
          ],
          [
           1341
          ],
          [
           2770
          ],
          [
           2046
          ],
          [
           2517
          ],
          [
           1319
          ],
          [
           46
          ],
          [
           32
          ],
          [
           2108
          ],
          [
           214
          ],
          [
           655
          ],
          [
           163
          ],
          [
           8
          ],
          [
           2115
          ],
          [
           291
          ],
          [
           23
          ],
          [
           1892
          ],
          [
           968
          ],
          [
           2101
          ],
          [
           705
          ],
          [
           593
          ],
          [
           1172
          ],
          [
           626
          ],
          [
           544
          ],
          [
           1722
          ],
          [
           2430
          ],
          [
           2298
          ],
          [
           204
          ],
          [
           1932
          ],
          [
           1789
          ],
          [
           401
          ],
          [
           364
          ],
          [
           1858
          ],
          [
           671
          ],
          [
           2339
          ],
          [
           5594
          ],
          [
           108
          ],
          [
           5059
          ],
          [
           3976
          ],
          [
           208
          ],
          [
           3849
          ],
          [
           5188
          ],
          [
           1071
          ],
          [
           2789
          ],
          [
           705
          ],
          [
           1199
          ],
          [
           326
          ],
          [
           2329
          ],
          [
           2077
          ],
          [
           556
          ],
          [
           9550
          ],
          [
           1941
          ],
          [
           427
          ],
          [
           174
          ],
          [
           870
          ],
          [
           1743
          ],
          [
           706
          ],
          [
           3298
          ],
          [
           241
          ],
          [
           726
          ],
          [
           2479
          ],
          [
           2278
          ],
          [
           616
          ],
          [
           63
          ],
          [
           1051
          ],
          [
           1279
          ],
          [
           1304
          ],
          [
           658
          ],
          [
           135
          ],
          [
           64
          ],
          [
           2764
          ],
          [
           101
          ],
          [
           1424
          ],
          [
           1463
          ],
          [
           1992
          ],
          [
           181
          ],
          [
           81
          ],
          [
           180
          ],
          [
           1603
          ],
          [
           69
          ],
          [
           85
          ],
          [
           369
          ],
          [
           377
          ],
          [
           183
          ],
          [
           113
          ],
          [
           1349
          ],
          [
           496
          ],
          [
           975
          ],
          [
           1782
          ],
          [
           335
          ],
          [
           269
          ],
          [
           1250
          ],
          [
           231
          ],
          [
           1405
          ],
          [
           477
          ],
          [
           605
          ],
          [
           150
          ],
          [
           385
          ],
          [
           250
          ],
          [
           2563
          ],
          [
           3265
          ],
          [
           210
          ],
          [
           605
          ],
          [
           589
          ],
          [
           259
          ],
          [
           2192
          ],
          [
           98
          ],
          [
           131
          ],
          [
           1867
          ],
          [
           42
          ],
          [
           181
          ],
          [
           1161
          ],
          [
           5142
          ],
          [
           102
          ],
          [
           3119
          ],
          [
           230
          ],
          [
           112
          ],
          [
           2264
          ],
          [
           292
          ],
          [
           977
          ],
          [
           34
          ],
          [
           202
          ],
          [
           1504
          ],
          [
           2477
          ],
          [
           186
          ],
          [
           74
          ],
          [
           1292
          ],
          [
           71
          ],
          [
           977
          ],
          [
           4505
          ],
          [
           134
          ],
          [
           47
          ],
          [
           2212
          ],
          [
           2697
          ],
          [
           3662
          ],
          [
           192
          ],
          [
           2540
          ],
          [
           2253
          ],
          [
           2244
          ],
          [
           1917
          ],
          [
           237
          ],
          [
           3769
          ],
          [
           2671
          ],
          [
           1886
          ],
          [
           907
          ],
          [
           343
          ],
          [
           43
          ],
          [
           37
          ],
          [
           34
          ],
          [
           2060
          ],
          [
           5170
          ],
          [
           181
          ],
          [
           1316
          ],
          [
           4354
          ],
          [
           3623
          ],
          [
           168
          ],
          [
           2332
          ],
          [
           859
          ],
          [
           342
          ],
          [
           102
          ],
          [
           263
          ],
          [
           7751
          ],
          [
           100
          ],
          [
           576
          ],
          [
           5815
          ],
          [
           209
          ],
          [
           351
          ],
          [
           895
          ],
          [
           2482
          ],
          [
           2843
          ],
          [
           136
          ],
          [
           65
          ],
          [
           170
          ],
          [
           1552
          ],
          [
           988
          ],
          [
           1074
          ],
          [
           474
          ],
          [
           558
          ],
          [
           593
          ],
          [
           1040
          ],
          [
           509
          ],
          [
           2547
          ],
          [
           124
          ],
          [
           58
          ],
          [
           1982
          ],
          [
           1563
          ],
          [
           630
          ],
          [
           358
          ],
          [
           767
          ],
          [
           80
          ],
          [
           121
          ],
          [
           123
          ],
          [
           190
          ],
          [
           43
          ],
          [
           985
          ],
          [
           337
          ],
          [
           850
          ],
          [
           1240
          ],
          [
           319
          ],
          [
           1049
          ],
          [
           163
          ],
          [
           133
          ],
          [
           276
          ],
          [
           303
          ],
          [
           132
          ],
          [
           46
          ],
          [
           47
          ],
          [
           30
          ],
          [
           2301
          ],
          [
           1678
          ],
          [
           2246
          ],
          [
           1671
          ],
          [
           100
          ],
          [
           691
          ],
          [
           194
          ],
          [
           297
          ],
          [
           1228
          ],
          [
           51
          ],
          [
           430
          ],
          [
           410
          ],
          [
           800
          ],
          [
           459
          ],
          [
           131
          ],
          [
           1286
          ],
          [
           641
          ],
          [
           1085
          ],
          [
           280
          ],
          [
           8483
          ],
          [
           198
          ],
          [
           2346
          ],
          [
           248
          ],
          [
           380
          ],
          [
           2556
          ],
          [
           2438
          ],
          [
           150
          ],
          [
           1134
          ],
          [
           6924
          ],
          [
           2388
          ],
          [
           1102
          ],
          [
           1206
          ],
          [
           943
          ],
          [
           947
          ],
          [
           84
          ],
          [
           286
          ],
          [
           869
          ],
          [
           666
          ],
          [
           1632
          ],
          [
           3200
          ],
          [
           2255
          ],
          [
           2106
          ],
          [
           6273
          ],
          [
           399
          ],
          [
           277
          ],
          [
           933
          ],
          [
           911
          ],
          [
           159
          ],
          [
           167
          ],
          [
           710
          ],
          [
           261
          ],
          [
           1333
          ],
          [
           884
          ],
          [
           1340
          ],
          [
           35
          ],
          [
           1472
          ],
          [
           1237
          ],
          [
           47
          ],
          [
           2967
          ],
          [
           1566
          ],
          [
           657
          ],
          [
           177
          ],
          [
           327
          ],
          [
           3874
          ],
          [
           129
          ],
          [
           234
          ],
          [
           2820
          ],
          [
           151
          ],
          [
           1120
          ],
          [
           1135
          ],
          [
           425
          ],
          [
           204
          ],
          [
           1038
          ],
          [
           267
          ],
          [
           211
          ],
          [
           488
          ],
          [
           230
          ],
          [
           3226
          ],
          [
           9362
          ],
          [
           652
          ],
          [
           527
          ],
          [
           3417
          ],
          [
           2379
          ],
          [
           181
          ],
          [
           194
          ],
          [
           411
          ],
          [
           2620
          ],
          [
           440
          ],
          [
           682
          ],
          [
           2525
          ],
          [
           2869
          ],
          [
           105
          ],
          [
           2773
          ],
          [
           9757
          ],
          [
           3579
          ],
          [
           1689
          ],
          [
           1078
          ],
          [
           211
          ],
          [
           1445
          ],
          [
           348
          ],
          [
           1512
          ],
          [
           82
          ],
          [
           973
          ],
          [
           1493
          ],
          [
           7811
          ],
          [
           1501
          ],
          [
           325
          ],
          [
           182
          ],
          [
           51
          ],
          [
           3638
          ],
          [
           456
          ],
          [
           512
          ],
          [
           9294
          ],
          [
           2481
          ],
          [
           1170
          ],
          [
           4608
          ],
          [
           1794
          ],
          [
           347
          ],
          [
           68
          ],
          [
           476
          ],
          [
           1617
          ],
          [
           81
          ],
          [
           2551
          ],
          [
           920
          ],
          [
           158
          ],
          [
           1350
          ],
          [
           1772
          ],
          [
           1672
          ],
          [
           3779
          ],
          [
           1475
          ],
          [
           8386
          ],
          [
           213
          ],
          [
           8
          ],
          [
           250
          ],
          [
           110
          ],
          [
           104
          ],
          [
           557
          ],
          [
           755
          ],
          [
           2232
          ],
          [
           49
          ],
          [
           2154
          ],
          [
           282
          ],
          [
           102
          ],
          [
           645
          ],
          [
           1095
          ],
          [
           121
          ],
          [
           48
          ],
          [
           74
          ],
          [
           1819
          ],
          [
           220
          ],
          [
           1017
          ],
          [
           4355
          ],
          [
           120
          ],
          [
           213
          ],
          [
           196
          ],
          [
           2203
          ],
          [
           3162
          ],
          [
           2317
          ],
          [
           1122
          ],
          [
           1040
          ],
          [
           249
          ],
          [
           241
          ],
          [
           2154
          ],
          [
           2198
          ],
          [
           582
          ],
          [
           33
          ],
          [
           43
          ],
          [
           702
          ],
          [
           1254
          ],
          [
           334
          ],
          [
           383
          ],
          [
           191
          ],
          [
           1124
          ],
          [
           191
          ],
          [
           1343
          ],
          [
           4971
          ],
          [
           552
          ],
          [
           2045
          ],
          [
           815
          ],
          [
           202
          ],
          [
           732
          ],
          [
           305
          ],
          [
           1334
          ],
          [
           5828
          ],
          [
           583
          ],
          [
           645
          ],
          [
           68
          ],
          [
           252
          ],
          [
           458
          ],
          [
           758
          ],
          [
           8277
          ],
          [
           1174
          ],
          [
           1806
          ],
          [
           349
          ],
          [
           221
          ],
          [
           296
          ],
          [
           247
          ],
          [
           1562
          ],
          [
           212
          ],
          [
           2173
          ],
          [
           935
          ],
          [
           1063
          ],
          [
           1220
          ],
          [
           54
          ],
          [
           2211
          ],
          [
           1876
          ],
          [
           2240
          ],
          [
           176
          ],
          [
           1701
          ],
          [
           596
          ],
          [
           216
          ],
          [
           214
          ],
          [
           2179
          ],
          [
           924
          ],
          [
           352
          ],
          [
           1056
          ]
         ],
         "hovertemplate": "num_tickets=%{marker.color}<br>latitude_departure=%{lat}<br>longitude_departure=%{lon}<extra></extra>",
         "lat": [
          45.002101898193,
          45.002101898193,
          53.7400016784668,
          53.7400016784668,
          53.7400016784668,
          43.449901580811,
          43.449901580811,
          43.449901580811,
          43.449901580811,
          43.449901580811,
          43.449901580811,
          43.449901580811,
          43.449901580811,
          43.449901580811,
          64.60030364990234,
          64.60030364990234,
          64.60030364990234,
          64.60030364990234,
          64.60030364990234,
          64.60030364990234,
          46.2832984924,
          46.2832984924,
          46.2832984924,
          53.363800048828125,
          53.363800048828125,
          53.363800048828125,
          53.363800048828125,
          50.42539978027344,
          56.370601654052734,
          53.214199066199996,
          53.214199066199996,
          53.214199066199996,
          53.214199066199996,
          59.273601532,
          59.273601532,
          55.305801,
          55.305801,
          55.305801,
          55.305801,
          55.305801,
          55.305801,
          56.913898468018,
          56.913898468018,
          56.090301513671875,
          56.090301513671875,
          56.090301513671875,
          56.090301513671875,
          55.40879821777344,
          55.40879821777344,
          55.40879821777344,
          55.40879821777344,
          55.40879821777344,
          55.40879821777344,
          55.40879821777344,
          55.40879821777344,
          55.40879821777344,
          55.40879821777344,
          55.40879821777344,
          55.40879821777344,
          55.40879821777344,
          55.40879821777344,
          55.40879821777344,
          55.40879821777344,
          55.40879821777344,
          55.40879821777344,
          55.40879821777344,
          55.40879821777344,
          55.40879821777344,
          55.40879821777344,
          55.40879821777344,
          55.40879821777344,
          55.40879821777344,
          55.40879821777344,
          55.40879821777344,
          55.40879821777344,
          55.40879821777344,
          55.40879821777344,
          55.40879821777344,
          55.40879821777344,
          55.40879821777344,
          55.40879821777344,
          55.40879821777344,
          55.40879821777344,
          55.40879821777344,
          55.40879821777344,
          55.40879821777344,
          55.40879821777344,
          55.40879821777344,
          55.40879821777344,
          55.40879821777344,
          55.40879821777344,
          55.40879821777344,
          55.40879821777344,
          55.40879821777344,
          55.40879821777344,
          64.73490142822266,
          64.73490142822266,
          50.643798828125,
          50.643798828125,
          50.643798828125,
          50.643798828125,
          46.3739013671875,
          46.3739013671875,
          46.3739013671875,
          46.3739013671875,
          46.3739013671875,
          59.9109992980957,
          59.9109992980957,
          44.5820926295,
          44.5820926295,
          44.5820926295,
          56.230098724365,
          56.230098724365,
          56.230098724365,
          56.230098724365,
          56.230098724365,
          43.298099517822266,
          61.028499603271484,
          61.028499603271484,
          61.028499603271484,
          61.028499603271484,
          61.028499603271484,
          52.026299,
          52.026299,
          56.82809829711914,
          52.268001556396,
          52.268001556396,
          52.268001556396,
          52.268001556396,
          55.27009963989258,
          55.27009963989258,
          55.27009963989258,
          54.88999938964844,
          54.88999938964844,
          54.88999938964844,
          54.88999938964844,
          62.190399169921875,
          62.190399169921875,
          48.52799987793,
          48.52799987793,
          48.52799987793,
          48.52799987793,
          48.52799987793,
          48.52799987793,
          48.52799987793,
          56.172901153564,
          56.172901153564,
          56.172901153564,
          56.172901153564,
          56.172901153564,
          56.172901153564,
          54.5499992371,
          55.47529983520508,
          55.47529983520508,
          55.47529983520508,
          55.47529983520508,
          45.034698486328,
          45.034698486328,
          45.034698486328,
          45.034698486328,
          53.504901885986,
          53.504901885986,
          58.503299713135,
          58.503299713135,
          58.503299713135,
          58.503299713135,
          58.503299713135,
          50.409000396728516,
          55.606201171875,
          55.606201171875,
          55.606201171875,
          55.606201171875,
          55.606201171875,
          55.606201171875,
          55.606201171875,
          59.80030059814453,
          59.80030059814453,
          59.80030059814453,
          59.80030059814453,
          59.80030059814453,
          59.80030059814453,
          59.80030059814453,
          59.80030059814453,
          59.80030059814453,
          59.80030059814453,
          59.80030059814453,
          59.80030059814453,
          59.80030059814453,
          59.80030059814453,
          59.80030059814453,
          59.80030059814453,
          59.80030059814453,
          59.80030059814453,
          59.80030059814453,
          42.81679916381836,
          42.81679916381836,
          42.81679916381836,
          62.534698486328125,
          62.534698486328125,
          62.534698486328125,
          62.534698486328125,
          62.534698486328125,
          68.78170013427734,
          68.78170013427734,
          53.39310073852539,
          53.39310073852539,
          53.39310073852539,
          53.39310073852539,
          44.225101470947266,
          44.225101470947266,
          44.225101470947266,
          44.225101470947266,
          44.225101470947266,
          43.512901306152344,
          43.512901306152344,
          55.564701080322266,
          55.564701080322266,
          55.564701080322266,
          55.564701080322266,
          61.108299255371094,
          61.108299255371094,
          60.94929885864258,
          60.94929885864258,
          60.94929885864258,
          67.63999938964844,
          67.63999938964844,
          67.63999938964844,
          63.18330001831055,
          63.18330001831055,
          63.18330001831055,
          63.18330001831055,
          53.8114013671875,
          53.8114013671875,
          53.8114013671875,
          53.8114013671875,
          53.8114013671875,
          69.31109619140625,
          69.31109619140625,
          66.06939697265625,
          66.06939697265625,
          66.06939697265625,
          66.06939697265625,
          66.06939697265625,
          66.06939697265625,
          62.11000061035156,
          65.48090362548828,
          65.48090362548828,
          43.2051010132,
          43.2051010132,
          54.96699905395508,
          54.96699905395508,
          54.96699905395508,
          54.96699905395508,
          55.012599945068,
          55.012599945068,
          55.012599945068,
          55.012599945068,
          55.012599945068,
          55.012599945068,
          55.012599945068,
          55.012599945068,
          55.012599945068,
          55.012599945068,
          55.012599945068,
          61.326622009277344,
          61.326622009277344,
          61.326622009277344,
          61.326622009277344,
          61.326622009277344,
          61.326622009277344,
          57.914501190186,
          57.914501190186,
          57.914501190186,
          57.914501190186,
          57.914501190186,
          57.914501190186,
          57.914501190186,
          57.914501190186,
          61.88520050048828,
          61.88520050048828,
          61.88520050048828,
          61.88520050048828,
          53.110599517822266,
          53.110599517822266,
          53.16790008544922,
          51.795799255371094,
          51.795799255371094,
          51.795799255371094,
          51.795799255371094,
          51.9667015076,
          47.2582015991,
          47.2582015991,
          47.2582015991,
          47.2582015991,
          47.2582015991,
          51.564998626708984,
          51.564998626708984,
          51.564998626708984,
          61.64699935913086,
          61.64699935913086,
          61.64699935913086,
          61.64699935913086,
          61.34370040893555,
          61.34370040893555,
          61.34370040893555,
          54.12512969970703,
          54.12512969970703,
          66.5907974243164,
          66.5907974243164,
          45.10919952392578,
          45.10919952392578,
          45.10919952392578,
          55.972599,
          55.972599,
          55.972599,
          55.972599,
          55.972599,
          55.972599,
          55.972599,
          55.972599,
          55.972599,
          55.972599,
          55.972599,
          55.972599,
          55.972599,
          55.972599,
          55.972599,
          55.972599,
          55.972599,
          55.972599,
          55.972599,
          55.972599,
          55.972599,
          55.972599,
          55.972599,
          55.972599,
          55.972599,
          55.972599,
          55.972599,
          55.972599,
          55.972599,
          55.972599,
          55.972599,
          55.972599,
          55.972599,
          55.972599,
          55.972599,
          55.972599,
          55.972599,
          55.972599,
          55.972599,
          55.972599,
          55.972599,
          55.972599,
          55.972599,
          55.972599,
          55.972599,
          55.972599,
          56.743099212646,
          56.743099212646,
          56.743099212646,
          56.743099212646,
          56.743099212646,
          56.743099212646,
          56.743099212646,
          56.743099212646,
          56.743099212646,
          60.709400177,
          52.806098937988,
          52.806098937988,
          57.189601898199996,
          57.189601898199996,
          57.189601898199996,
          57.189601898199996,
          57.189601898199996,
          57.189601898199996,
          56.380298614502,
          56.380298614502,
          56.380298614502,
          56.380298614502,
          56.380298614502,
          63.566898345947266,
          63.566898345947266,
          54.557498931885,
          54.557498931885,
          54.557498931885,
          54.557498931885,
          54.557498931885,
          58.13610076904297,
          58.13610076904297,
          54.26829910279999,
          54.26829910279999,
          54.26829910279999,
          54.26829910279999,
          54.26829910279999,
          54.4010009765625,
          54.4010009765625,
          60.10329818725586,
          60.10329818725586,
          51.7505989074707,
          66.00469970703125,
          66.00469970703125,
          54.63999938964844,
          54.63999938964844,
          54.63999938964844,
          51.80780029296875,
          51.80780029296875,
          46.88869857788086,
          46.88869857788086,
          46.88869857788086,
          55.5914993286,
          55.5914993286,
          55.5914993286,
          55.5914993286,
          55.5914993286,
          55.5914993286,
          55.5914993286,
          55.5914993286,
          55.5914993286,
          55.5914993286,
          55.5914993286,
          55.5914993286,
          55.5914993286,
          55.5914993286,
          55.5914993286,
          55.5914993286,
          55.5914993286,
          55.5914993286,
          55.5914993286,
          55.5914993286,
          55.5914993286,
          55.5914993286,
          55.5914993286,
          55.5914993286,
          55.5914993286,
          55.5914993286,
          67.48860168457031,
          67.48860168457031,
          67.48860168457031,
          48.782501220703125,
          48.782501220703125,
          48.782501220703125,
          48.782501220703125,
          48.782501220703125,
          51.81420135498047,
          51.81420135498047,
          43.39899826049805,
          43.39899826049805,
          43.39899826049805,
          62.093299865722656,
          62.093299865722656
         ],
         "legendgroup": "",
         "lon": [
          37.347301483154,
          37.347301483154,
          91.38500213623047,
          91.38500213623047,
          91.38500213623047,
          39.956600189209,
          39.956600189209,
          39.956600189209,
          39.956600189209,
          39.956600189209,
          39.956600189209,
          39.956600189209,
          39.956600189209,
          39.956600189209,
          40.71670150756836,
          40.71670150756836,
          40.71670150756836,
          40.71670150756836,
          40.71670150756836,
          40.71670150756836,
          48.0063018799,
          48.0063018799,
          48.0063018799,
          83.53849792480469,
          83.53849792480469,
          83.53849792480469,
          83.53849792480469,
          127.41200256347656,
          101.697998046875,
          34.176399231,
          34.176399231,
          34.176399231,
          34.176399231,
          38.015800476100004,
          38.015800476100004,
          61.5033,
          61.5033,
          61.5033,
          61.5033,
          61.5033,
          61.5033,
          124.91400146484,
          124.91400146484,
          47.3473014831543,
          47.3473014831543,
          47.3473014831543,
          47.3473014831543,
          37.90629959106445,
          37.90629959106445,
          37.90629959106445,
          37.90629959106445,
          37.90629959106445,
          37.90629959106445,
          37.90629959106445,
          37.90629959106445,
          37.90629959106445,
          37.90629959106445,
          37.90629959106445,
          37.90629959106445,
          37.90629959106445,
          37.90629959106445,
          37.90629959106445,
          37.90629959106445,
          37.90629959106445,
          37.90629959106445,
          37.90629959106445,
          37.90629959106445,
          37.90629959106445,
          37.90629959106445,
          37.90629959106445,
          37.90629959106445,
          37.90629959106445,
          37.90629959106445,
          37.90629959106445,
          37.90629959106445,
          37.90629959106445,
          37.90629959106445,
          37.90629959106445,
          37.90629959106445,
          37.90629959106445,
          37.90629959106445,
          37.90629959106445,
          37.90629959106445,
          37.90629959106445,
          37.90629959106445,
          37.90629959106445,
          37.90629959106445,
          37.90629959106445,
          37.90629959106445,
          37.90629959106445,
          37.90629959106445,
          37.90629959106445,
          37.90629959106445,
          37.90629959106445,
          37.90629959106445,
          177.74099731445312,
          177.74099731445312,
          36.5900993347168,
          36.5900993347168,
          36.5900993347168,
          36.5900993347168,
          44.33089828491211,
          44.33089828491211,
          44.33089828491211,
          44.33089828491211,
          44.33089828491211,
          150.72000122070312,
          150.72000122070312,
          38.0124807358,
          38.0124807358,
          38.0124807358,
          43.784000396729,
          43.784000396729,
          43.784000396729,
          43.784000396729,
          43.784000396729,
          45.78409957885742,
          69.08609771728516,
          69.08609771728516,
          69.08609771728516,
          69.08609771728516,
          69.08609771728516,
          113.306,
          113.306,
          53.45750045776367,
          104.38899993896,
          104.38899993896,
          104.38899993896,
          104.38899993896,
          86.1072006225586,
          86.1072006225586,
          86.1072006225586,
          20.592599868774414,
          20.592599868774414,
          20.592599868774414,
          20.592599868774414,
          74.53379821777344,
          74.53379821777344,
          135.18800354004,
          135.18800354004,
          135.18800354004,
          135.18800354004,
          135.18800354004,
          135.18800354004,
          135.18800354004,
          92.493301391602,
          92.493301391602,
          92.493301391602,
          92.493301391602,
          92.493301391602,
          92.493301391602,
          36.3666687012,
          65.41560363769531,
          65.41560363769531,
          65.41560363769531,
          65.41560363769531,
          39.170501708984,
          39.170501708984,
          39.170501708984,
          39.170501708984,
          50.16429901123,
          50.16429901123,
          49.348300933838,
          49.348300933838,
          49.348300933838,
          49.348300933838,
          49.348300933838,
          136.9340057373047,
          49.278701782227,
          49.278701782227,
          49.278701782227,
          49.278701782227,
          49.278701782227,
          49.278701782227,
          49.278701782227,
          30.262500762939453,
          30.262500762939453,
          30.262500762939453,
          30.262500762939453,
          30.262500762939453,
          30.262500762939453,
          30.262500762939453,
          30.262500762939453,
          30.262500762939453,
          30.262500762939453,
          30.262500762939453,
          30.262500762939453,
          30.262500762939453,
          30.262500762939453,
          30.262500762939453,
          30.262500762939453,
          30.262500762939453,
          30.262500762939453,
          30.262500762939453,
          47.65230178833008,
          47.65230178833008,
          47.65230178833008,
          114.03900146484375,
          114.03900146484375,
          114.03900146484375,
          114.03900146484375,
          114.03900146484375,
          32.75080108642578,
          32.75080108642578,
          58.755699157714844,
          58.755699157714844,
          58.755699157714844,
          58.755699157714844,
          43.08190155029297,
          43.08190155029297,
          43.08190155029297,
          43.08190155029297,
          43.08190155029297,
          43.636600494384766,
          43.636600494384766,
          52.092498779296875,
          52.092498779296875,
          52.092498779296875,
          52.092498779296875,
          72.6500015258789,
          72.6500015258789,
          76.48359680175781,
          76.48359680175781,
          76.48359680175781,
          53.12189865112305,
          53.12189865112305,
          53.12189865112305,
          75.2699966430664,
          75.2699966430664,
          75.2699966430664,
          75.2699966430664,
          86.877197265625,
          86.877197265625,
          86.877197265625,
          86.877197265625,
          86.877197265625,
          87.33219909667969,
          87.33219909667969,
          76.52030181884766,
          76.52030181884766,
          76.52030181884766,
          76.52030181884766,
          76.52030181884766,
          76.52030181884766,
          65.61499786376953,
          72.69889831542969,
          72.69889831542969,
          44.6066017151,
          44.6066017151,
          73.31050109863281,
          73.31050109863281,
          73.31050109863281,
          73.31050109863281,
          82.650703430176,
          82.650703430176,
          82.650703430176,
          82.650703430176,
          82.650703430176,
          82.650703430176,
          82.650703430176,
          82.650703430176,
          82.650703430176,
          82.650703430176,
          82.650703430176,
          63.60191345214844,
          63.60191345214844,
          63.60191345214844,
          63.60191345214844,
          63.60191345214844,
          63.60191345214844,
          56.021198272705,
          56.021198272705,
          56.021198272705,
          56.021198272705,
          56.021198272705,
          56.021198272705,
          56.021198272705,
          56.021198272705,
          34.154701232910156,
          34.154701232910156,
          34.154701232910156,
          34.154701232910156,
          45.02109909057617,
          45.02109909057617,
          158.45399475097656,
          55.45669937133789,
          55.45669937133789,
          55.45669937133789,
          55.45669937133789,
          85.8332977295,
          39.8180999756,
          39.8180999756,
          39.8180999756,
          39.8180999756,
          39.8180999756,
          46.04669952392578,
          46.04669952392578,
          46.04669952392578,
          50.84510040283203,
          50.84510040283203,
          50.84510040283203,
          50.84510040283203,
          73.40180206298828,
          73.40180206298828,
          73.40180206298828,
          45.212257385253906,
          45.212257385253906,
          66.61100006103516,
          66.61100006103516,
          42.11280059814453,
          42.11280059814453,
          42.11280059814453,
          37.4146,
          37.4146,
          37.4146,
          37.4146,
          37.4146,
          37.4146,
          37.4146,
          37.4146,
          37.4146,
          37.4146,
          37.4146,
          37.4146,
          37.4146,
          37.4146,
          37.4146,
          37.4146,
          37.4146,
          37.4146,
          37.4146,
          37.4146,
          37.4146,
          37.4146,
          37.4146,
          37.4146,
          37.4146,
          37.4146,
          37.4146,
          37.4146,
          37.4146,
          37.4146,
          37.4146,
          37.4146,
          37.4146,
          37.4146,
          37.4146,
          37.4146,
          37.4146,
          37.4146,
          37.4146,
          37.4146,
          37.4146,
          37.4146,
          37.4146,
          37.4146,
          37.4146,
          37.4146,
          60.802700042725,
          60.802700042725,
          60.802700042725,
          60.802700042725,
          60.802700042725,
          60.802700042725,
          60.802700042725,
          60.802700042725,
          60.802700042725,
          77.66000366210001,
          41.482799530029,
          41.482799530029,
          65.3243026733,
          65.3243026733,
          65.3243026733,
          65.3243026733,
          65.3243026733,
          65.3243026733,
          85.208297729492,
          85.208297729492,
          85.208297729492,
          85.208297729492,
          85.208297729492,
          53.8046989440918,
          53.8046989440918,
          55.874401092529,
          55.874401092529,
          55.874401092529,
          55.874401092529,
          55.874401092529,
          102.56500244140625,
          102.56500244140625,
          48.226699829100006,
          48.226699829100006,
          48.226699829100006,
          48.226699829100006,
          48.226699829100006,
          48.80270004272461,
          48.80270004272461,
          64.82669830322266,
          64.82669830322266,
          36.29560089111328,
          57.3671989440918,
          57.3671989440918,
          52.801700592041016,
          52.801700592041016,
          52.801700592041016,
          107.43800354003906,
          107.43800354003906,
          142.71800231933594,
          142.71800231933594,
          142.71800231933594,
          37.2615013123,
          37.2615013123,
          37.2615013123,
          37.2615013123,
          37.2615013123,
          37.2615013123,
          37.2615013123,
          37.2615013123,
          37.2615013123,
          37.2615013123,
          37.2615013123,
          37.2615013123,
          37.2615013123,
          37.2615013123,
          37.2615013123,
          37.2615013123,
          37.2615013123,
          37.2615013123,
          37.2615013123,
          37.2615013123,
          37.2615013123,
          37.2615013123,
          37.2615013123,
          37.2615013123,
          37.2615013123,
          37.2615013123,
          63.993099212646484,
          63.993099212646484,
          63.993099212646484,
          44.34550094604492,
          44.34550094604492,
          44.34550094604492,
          44.34550094604492,
          44.34550094604492,
          39.22959899902344,
          39.22959899902344,
          132.1479949951172,
          132.1479949951172,
          132.1479949951172,
          129.77099609375,
          129.77099609375
         ],
         "marker": {
          "color": [
           1961,
           2981,
           466,
           217,
           258,
           132,
           111,
           63,
           298,
           3656,
           134,
           997,
           7767,
           3645,
           988,
           208,
           925,
           225,
           138,
           149,
           227,
           567,
           623,
           238,
           472,
           436,
           484,
           1021,
           1341,
           2770,
           2046,
           2517,
           1319,
           46,
           32,
           2108,
           214,
           655,
           163,
           8,
           2115,
           291,
           23,
           1892,
           968,
           2101,
           705,
           593,
           1172,
           626,
           544,
           1722,
           2430,
           2298,
           204,
           1932,
           1789,
           401,
           364,
           1858,
           671,
           2339,
           5594,
           108,
           5059,
           3976,
           208,
           3849,
           5188,
           1071,
           2789,
           705,
           1199,
           326,
           2329,
           2077,
           556,
           9550,
           1941,
           427,
           174,
           870,
           1743,
           706,
           3298,
           241,
           726,
           2479,
           2278,
           616,
           63,
           1051,
           1279,
           1304,
           658,
           135,
           64,
           2764,
           101,
           1424,
           1463,
           1992,
           181,
           81,
           180,
           1603,
           69,
           85,
           369,
           377,
           183,
           113,
           1349,
           496,
           975,
           1782,
           335,
           269,
           1250,
           231,
           1405,
           477,
           605,
           150,
           385,
           250,
           2563,
           3265,
           210,
           605,
           589,
           259,
           2192,
           98,
           131,
           1867,
           42,
           181,
           1161,
           5142,
           102,
           3119,
           230,
           112,
           2264,
           292,
           977,
           34,
           202,
           1504,
           2477,
           186,
           74,
           1292,
           71,
           977,
           4505,
           134,
           47,
           2212,
           2697,
           3662,
           192,
           2540,
           2253,
           2244,
           1917,
           237,
           3769,
           2671,
           1886,
           907,
           343,
           43,
           37,
           34,
           2060,
           5170,
           181,
           1316,
           4354,
           3623,
           168,
           2332,
           859,
           342,
           102,
           263,
           7751,
           100,
           576,
           5815,
           209,
           351,
           895,
           2482,
           2843,
           136,
           65,
           170,
           1552,
           988,
           1074,
           474,
           558,
           593,
           1040,
           509,
           2547,
           124,
           58,
           1982,
           1563,
           630,
           358,
           767,
           80,
           121,
           123,
           190,
           43,
           985,
           337,
           850,
           1240,
           319,
           1049,
           163,
           133,
           276,
           303,
           132,
           46,
           47,
           30,
           2301,
           1678,
           2246,
           1671,
           100,
           691,
           194,
           297,
           1228,
           51,
           430,
           410,
           800,
           459,
           131,
           1286,
           641,
           1085,
           280,
           8483,
           198,
           2346,
           248,
           380,
           2556,
           2438,
           150,
           1134,
           6924,
           2388,
           1102,
           1206,
           943,
           947,
           84,
           286,
           869,
           666,
           1632,
           3200,
           2255,
           2106,
           6273,
           399,
           277,
           933,
           911,
           159,
           167,
           710,
           261,
           1333,
           884,
           1340,
           35,
           1472,
           1237,
           47,
           2967,
           1566,
           657,
           177,
           327,
           3874,
           129,
           234,
           2820,
           151,
           1120,
           1135,
           425,
           204,
           1038,
           267,
           211,
           488,
           230,
           3226,
           9362,
           652,
           527,
           3417,
           2379,
           181,
           194,
           411,
           2620,
           440,
           682,
           2525,
           2869,
           105,
           2773,
           9757,
           3579,
           1689,
           1078,
           211,
           1445,
           348,
           1512,
           82,
           973,
           1493,
           7811,
           1501,
           325,
           182,
           51,
           3638,
           456,
           512,
           9294,
           2481,
           1170,
           4608,
           1794,
           347,
           68,
           476,
           1617,
           81,
           2551,
           920,
           158,
           1350,
           1772,
           1672,
           3779,
           1475,
           8386,
           213,
           8,
           250,
           110,
           104,
           557,
           755,
           2232,
           49,
           2154,
           282,
           102,
           645,
           1095,
           121,
           48,
           74,
           1819,
           220,
           1017,
           4355,
           120,
           213,
           196,
           2203,
           3162,
           2317,
           1122,
           1040,
           249,
           241,
           2154,
           2198,
           582,
           33,
           43,
           702,
           1254,
           334,
           383,
           191,
           1124,
           191,
           1343,
           4971,
           552,
           2045,
           815,
           202,
           732,
           305,
           1334,
           5828,
           583,
           645,
           68,
           252,
           458,
           758,
           8277,
           1174,
           1806,
           349,
           221,
           296,
           247,
           1562,
           212,
           2173,
           935,
           1063,
           1220,
           54,
           2211,
           1876,
           2240,
           176,
           1701,
           596,
           216,
           214,
           2179,
           924,
           352,
           1056
          ],
          "coloraxis": "coloraxis",
          "size": [
           1961,
           2981,
           466,
           217,
           258,
           132,
           111,
           63,
           298,
           3656,
           134,
           997,
           7767,
           3645,
           988,
           208,
           925,
           225,
           138,
           149,
           227,
           567,
           623,
           238,
           472,
           436,
           484,
           1021,
           1341,
           2770,
           2046,
           2517,
           1319,
           46,
           32,
           2108,
           214,
           655,
           163,
           8,
           2115,
           291,
           23,
           1892,
           968,
           2101,
           705,
           593,
           1172,
           626,
           544,
           1722,
           2430,
           2298,
           204,
           1932,
           1789,
           401,
           364,
           1858,
           671,
           2339,
           5594,
           108,
           5059,
           3976,
           208,
           3849,
           5188,
           1071,
           2789,
           705,
           1199,
           326,
           2329,
           2077,
           556,
           9550,
           1941,
           427,
           174,
           870,
           1743,
           706,
           3298,
           241,
           726,
           2479,
           2278,
           616,
           63,
           1051,
           1279,
           1304,
           658,
           135,
           64,
           2764,
           101,
           1424,
           1463,
           1992,
           181,
           81,
           180,
           1603,
           69,
           85,
           369,
           377,
           183,
           113,
           1349,
           496,
           975,
           1782,
           335,
           269,
           1250,
           231,
           1405,
           477,
           605,
           150,
           385,
           250,
           2563,
           3265,
           210,
           605,
           589,
           259,
           2192,
           98,
           131,
           1867,
           42,
           181,
           1161,
           5142,
           102,
           3119,
           230,
           112,
           2264,
           292,
           977,
           34,
           202,
           1504,
           2477,
           186,
           74,
           1292,
           71,
           977,
           4505,
           134,
           47,
           2212,
           2697,
           3662,
           192,
           2540,
           2253,
           2244,
           1917,
           237,
           3769,
           2671,
           1886,
           907,
           343,
           43,
           37,
           34,
           2060,
           5170,
           181,
           1316,
           4354,
           3623,
           168,
           2332,
           859,
           342,
           102,
           263,
           7751,
           100,
           576,
           5815,
           209,
           351,
           895,
           2482,
           2843,
           136,
           65,
           170,
           1552,
           988,
           1074,
           474,
           558,
           593,
           1040,
           509,
           2547,
           124,
           58,
           1982,
           1563,
           630,
           358,
           767,
           80,
           121,
           123,
           190,
           43,
           985,
           337,
           850,
           1240,
           319,
           1049,
           163,
           133,
           276,
           303,
           132,
           46,
           47,
           30,
           2301,
           1678,
           2246,
           1671,
           100,
           691,
           194,
           297,
           1228,
           51,
           430,
           410,
           800,
           459,
           131,
           1286,
           641,
           1085,
           280,
           8483,
           198,
           2346,
           248,
           380,
           2556,
           2438,
           150,
           1134,
           6924,
           2388,
           1102,
           1206,
           943,
           947,
           84,
           286,
           869,
           666,
           1632,
           3200,
           2255,
           2106,
           6273,
           399,
           277,
           933,
           911,
           159,
           167,
           710,
           261,
           1333,
           884,
           1340,
           35,
           1472,
           1237,
           47,
           2967,
           1566,
           657,
           177,
           327,
           3874,
           129,
           234,
           2820,
           151,
           1120,
           1135,
           425,
           204,
           1038,
           267,
           211,
           488,
           230,
           3226,
           9362,
           652,
           527,
           3417,
           2379,
           181,
           194,
           411,
           2620,
           440,
           682,
           2525,
           2869,
           105,
           2773,
           9757,
           3579,
           1689,
           1078,
           211,
           1445,
           348,
           1512,
           82,
           973,
           1493,
           7811,
           1501,
           325,
           182,
           51,
           3638,
           456,
           512,
           9294,
           2481,
           1170,
           4608,
           1794,
           347,
           68,
           476,
           1617,
           81,
           2551,
           920,
           158,
           1350,
           1772,
           1672,
           3779,
           1475,
           8386,
           213,
           8,
           250,
           110,
           104,
           557,
           755,
           2232,
           49,
           2154,
           282,
           102,
           645,
           1095,
           121,
           48,
           74,
           1819,
           220,
           1017,
           4355,
           120,
           213,
           196,
           2203,
           3162,
           2317,
           1122,
           1040,
           249,
           241,
           2154,
           2198,
           582,
           33,
           43,
           702,
           1254,
           334,
           383,
           191,
           1124,
           191,
           1343,
           4971,
           552,
           2045,
           815,
           202,
           732,
           305,
           1334,
           5828,
           583,
           645,
           68,
           252,
           458,
           758,
           8277,
           1174,
           1806,
           349,
           221,
           296,
           247,
           1562,
           212,
           2173,
           935,
           1063,
           1220,
           54,
           2211,
           1876,
           2240,
           176,
           1701,
           596,
           216,
           214,
           2179,
           924,
           352,
           1056
          ],
          "sizemode": "area",
          "sizeref": 24.3925
         },
         "mode": "markers",
         "name": "",
         "showlegend": false,
         "subplot": "mapbox",
         "type": "scattermapbox"
        }
       ],
       "layout": {
        "coloraxis": {
         "colorbar": {
          "title": {
           "text": "Tickets Sold"
          }
         },
         "colorscale": [
          [
           0,
           "orange"
          ],
          [
           1,
           "red"
          ]
         ]
        },
        "height": 1300,
        "legend": {
         "itemsizing": "constant",
         "tracegroupgap": 0
        },
        "mapbox": {
         "center": {
          "lat": 55.45070146233941,
          "lon": 57.06840737877782
         },
         "domain": {
          "x": [
           0,
           1
          ],
          "y": [
           0,
           1
          ]
         },
         "style": "open-street-map",
         "zoom": 2
        },
        "margin": {
         "b": 0,
         "l": 0,
         "r": 0,
         "t": 0
        },
        "template": {
         "data": {
          "bar": [
           {
            "error_x": {
             "color": "#2a3f5f"
            },
            "error_y": {
             "color": "#2a3f5f"
            },
            "marker": {
             "line": {
              "color": "#E5ECF6",
              "width": 0.5
             },
             "pattern": {
              "fillmode": "overlay",
              "size": 10,
              "solidity": 0.2
             }
            },
            "type": "bar"
           }
          ],
          "barpolar": [
           {
            "marker": {
             "line": {
              "color": "#E5ECF6",
              "width": 0.5
             },
             "pattern": {
              "fillmode": "overlay",
              "size": 10,
              "solidity": 0.2
             }
            },
            "type": "barpolar"
           }
          ],
          "carpet": [
           {
            "aaxis": {
             "endlinecolor": "#2a3f5f",
             "gridcolor": "white",
             "linecolor": "white",
             "minorgridcolor": "white",
             "startlinecolor": "#2a3f5f"
            },
            "baxis": {
             "endlinecolor": "#2a3f5f",
             "gridcolor": "white",
             "linecolor": "white",
             "minorgridcolor": "white",
             "startlinecolor": "#2a3f5f"
            },
            "type": "carpet"
           }
          ],
          "choropleth": [
           {
            "colorbar": {
             "outlinewidth": 0,
             "ticks": ""
            },
            "type": "choropleth"
           }
          ],
          "contour": [
           {
            "colorbar": {
             "outlinewidth": 0,
             "ticks": ""
            },
            "colorscale": [
             [
              0,
              "#0d0887"
             ],
             [
              0.1111111111111111,
              "#46039f"
             ],
             [
              0.2222222222222222,
              "#7201a8"
             ],
             [
              0.3333333333333333,
              "#9c179e"
             ],
             [
              0.4444444444444444,
              "#bd3786"
             ],
             [
              0.5555555555555556,
              "#d8576b"
             ],
             [
              0.6666666666666666,
              "#ed7953"
             ],
             [
              0.7777777777777778,
              "#fb9f3a"
             ],
             [
              0.8888888888888888,
              "#fdca26"
             ],
             [
              1,
              "#f0f921"
             ]
            ],
            "type": "contour"
           }
          ],
          "contourcarpet": [
           {
            "colorbar": {
             "outlinewidth": 0,
             "ticks": ""
            },
            "type": "contourcarpet"
           }
          ],
          "heatmap": [
           {
            "colorbar": {
             "outlinewidth": 0,
             "ticks": ""
            },
            "colorscale": [
             [
              0,
              "#0d0887"
             ],
             [
              0.1111111111111111,
              "#46039f"
             ],
             [
              0.2222222222222222,
              "#7201a8"
             ],
             [
              0.3333333333333333,
              "#9c179e"
             ],
             [
              0.4444444444444444,
              "#bd3786"
             ],
             [
              0.5555555555555556,
              "#d8576b"
             ],
             [
              0.6666666666666666,
              "#ed7953"
             ],
             [
              0.7777777777777778,
              "#fb9f3a"
             ],
             [
              0.8888888888888888,
              "#fdca26"
             ],
             [
              1,
              "#f0f921"
             ]
            ],
            "type": "heatmap"
           }
          ],
          "heatmapgl": [
           {
            "colorbar": {
             "outlinewidth": 0,
             "ticks": ""
            },
            "colorscale": [
             [
              0,
              "#0d0887"
             ],
             [
              0.1111111111111111,
              "#46039f"
             ],
             [
              0.2222222222222222,
              "#7201a8"
             ],
             [
              0.3333333333333333,
              "#9c179e"
             ],
             [
              0.4444444444444444,
              "#bd3786"
             ],
             [
              0.5555555555555556,
              "#d8576b"
             ],
             [
              0.6666666666666666,
              "#ed7953"
             ],
             [
              0.7777777777777778,
              "#fb9f3a"
             ],
             [
              0.8888888888888888,
              "#fdca26"
             ],
             [
              1,
              "#f0f921"
             ]
            ],
            "type": "heatmapgl"
           }
          ],
          "histogram": [
           {
            "marker": {
             "pattern": {
              "fillmode": "overlay",
              "size": 10,
              "solidity": 0.2
             }
            },
            "type": "histogram"
           }
          ],
          "histogram2d": [
           {
            "colorbar": {
             "outlinewidth": 0,
             "ticks": ""
            },
            "colorscale": [
             [
              0,
              "#0d0887"
             ],
             [
              0.1111111111111111,
              "#46039f"
             ],
             [
              0.2222222222222222,
              "#7201a8"
             ],
             [
              0.3333333333333333,
              "#9c179e"
             ],
             [
              0.4444444444444444,
              "#bd3786"
             ],
             [
              0.5555555555555556,
              "#d8576b"
             ],
             [
              0.6666666666666666,
              "#ed7953"
             ],
             [
              0.7777777777777778,
              "#fb9f3a"
             ],
             [
              0.8888888888888888,
              "#fdca26"
             ],
             [
              1,
              "#f0f921"
             ]
            ],
            "type": "histogram2d"
           }
          ],
          "histogram2dcontour": [
           {
            "colorbar": {
             "outlinewidth": 0,
             "ticks": ""
            },
            "colorscale": [
             [
              0,
              "#0d0887"
             ],
             [
              0.1111111111111111,
              "#46039f"
             ],
             [
              0.2222222222222222,
              "#7201a8"
             ],
             [
              0.3333333333333333,
              "#9c179e"
             ],
             [
              0.4444444444444444,
              "#bd3786"
             ],
             [
              0.5555555555555556,
              "#d8576b"
             ],
             [
              0.6666666666666666,
              "#ed7953"
             ],
             [
              0.7777777777777778,
              "#fb9f3a"
             ],
             [
              0.8888888888888888,
              "#fdca26"
             ],
             [
              1,
              "#f0f921"
             ]
            ],
            "type": "histogram2dcontour"
           }
          ],
          "mesh3d": [
           {
            "colorbar": {
             "outlinewidth": 0,
             "ticks": ""
            },
            "type": "mesh3d"
           }
          ],
          "parcoords": [
           {
            "line": {
             "colorbar": {
              "outlinewidth": 0,
              "ticks": ""
             }
            },
            "type": "parcoords"
           }
          ],
          "pie": [
           {
            "automargin": true,
            "type": "pie"
           }
          ],
          "scatter": [
           {
            "fillpattern": {
             "fillmode": "overlay",
             "size": 10,
             "solidity": 0.2
            },
            "type": "scatter"
           }
          ],
          "scatter3d": [
           {
            "line": {
             "colorbar": {
              "outlinewidth": 0,
              "ticks": ""
             }
            },
            "marker": {
             "colorbar": {
              "outlinewidth": 0,
              "ticks": ""
             }
            },
            "type": "scatter3d"
           }
          ],
          "scattercarpet": [
           {
            "marker": {
             "colorbar": {
              "outlinewidth": 0,
              "ticks": ""
             }
            },
            "type": "scattercarpet"
           }
          ],
          "scattergeo": [
           {
            "marker": {
             "colorbar": {
              "outlinewidth": 0,
              "ticks": ""
             }
            },
            "type": "scattergeo"
           }
          ],
          "scattergl": [
           {
            "marker": {
             "colorbar": {
              "outlinewidth": 0,
              "ticks": ""
             }
            },
            "type": "scattergl"
           }
          ],
          "scattermapbox": [
           {
            "marker": {
             "colorbar": {
              "outlinewidth": 0,
              "ticks": ""
             }
            },
            "type": "scattermapbox"
           }
          ],
          "scatterpolar": [
           {
            "marker": {
             "colorbar": {
              "outlinewidth": 0,
              "ticks": ""
             }
            },
            "type": "scatterpolar"
           }
          ],
          "scatterpolargl": [
           {
            "marker": {
             "colorbar": {
              "outlinewidth": 0,
              "ticks": ""
             }
            },
            "type": "scatterpolargl"
           }
          ],
          "scatterternary": [
           {
            "marker": {
             "colorbar": {
              "outlinewidth": 0,
              "ticks": ""
             }
            },
            "type": "scatterternary"
           }
          ],
          "surface": [
           {
            "colorbar": {
             "outlinewidth": 0,
             "ticks": ""
            },
            "colorscale": [
             [
              0,
              "#0d0887"
             ],
             [
              0.1111111111111111,
              "#46039f"
             ],
             [
              0.2222222222222222,
              "#7201a8"
             ],
             [
              0.3333333333333333,
              "#9c179e"
             ],
             [
              0.4444444444444444,
              "#bd3786"
             ],
             [
              0.5555555555555556,
              "#d8576b"
             ],
             [
              0.6666666666666666,
              "#ed7953"
             ],
             [
              0.7777777777777778,
              "#fb9f3a"
             ],
             [
              0.8888888888888888,
              "#fdca26"
             ],
             [
              1,
              "#f0f921"
             ]
            ],
            "type": "surface"
           }
          ],
          "table": [
           {
            "cells": {
             "fill": {
              "color": "#EBF0F8"
             },
             "line": {
              "color": "white"
             }
            },
            "header": {
             "fill": {
              "color": "#C8D4E3"
             },
             "line": {
              "color": "white"
             }
            },
            "type": "table"
           }
          ]
         },
         "layout": {
          "annotationdefaults": {
           "arrowcolor": "#2a3f5f",
           "arrowhead": 0,
           "arrowwidth": 1
          },
          "autotypenumbers": "strict",
          "coloraxis": {
           "colorbar": {
            "outlinewidth": 0,
            "ticks": ""
           }
          },
          "colorscale": {
           "diverging": [
            [
             0,
             "#8e0152"
            ],
            [
             0.1,
             "#c51b7d"
            ],
            [
             0.2,
             "#de77ae"
            ],
            [
             0.3,
             "#f1b6da"
            ],
            [
             0.4,
             "#fde0ef"
            ],
            [
             0.5,
             "#f7f7f7"
            ],
            [
             0.6,
             "#e6f5d0"
            ],
            [
             0.7,
             "#b8e186"
            ],
            [
             0.8,
             "#7fbc41"
            ],
            [
             0.9,
             "#4d9221"
            ],
            [
             1,
             "#276419"
            ]
           ],
           "sequential": [
            [
             0,
             "#0d0887"
            ],
            [
             0.1111111111111111,
             "#46039f"
            ],
            [
             0.2222222222222222,
             "#7201a8"
            ],
            [
             0.3333333333333333,
             "#9c179e"
            ],
            [
             0.4444444444444444,
             "#bd3786"
            ],
            [
             0.5555555555555556,
             "#d8576b"
            ],
            [
             0.6666666666666666,
             "#ed7953"
            ],
            [
             0.7777777777777778,
             "#fb9f3a"
            ],
            [
             0.8888888888888888,
             "#fdca26"
            ],
            [
             1,
             "#f0f921"
            ]
           ],
           "sequentialminus": [
            [
             0,
             "#0d0887"
            ],
            [
             0.1111111111111111,
             "#46039f"
            ],
            [
             0.2222222222222222,
             "#7201a8"
            ],
            [
             0.3333333333333333,
             "#9c179e"
            ],
            [
             0.4444444444444444,
             "#bd3786"
            ],
            [
             0.5555555555555556,
             "#d8576b"
            ],
            [
             0.6666666666666666,
             "#ed7953"
            ],
            [
             0.7777777777777778,
             "#fb9f3a"
            ],
            [
             0.8888888888888888,
             "#fdca26"
            ],
            [
             1,
             "#f0f921"
            ]
           ]
          },
          "colorway": [
           "#636efa",
           "#EF553B",
           "#00cc96",
           "#ab63fa",
           "#FFA15A",
           "#19d3f3",
           "#FF6692",
           "#B6E880",
           "#FF97FF",
           "#FECB52"
          ],
          "font": {
           "color": "#2a3f5f"
          },
          "geo": {
           "bgcolor": "white",
           "lakecolor": "white",
           "landcolor": "#E5ECF6",
           "showlakes": true,
           "showland": true,
           "subunitcolor": "white"
          },
          "hoverlabel": {
           "align": "left"
          },
          "hovermode": "closest",
          "mapbox": {
           "style": "light"
          },
          "paper_bgcolor": "white",
          "plot_bgcolor": "#E5ECF6",
          "polar": {
           "angularaxis": {
            "gridcolor": "white",
            "linecolor": "white",
            "ticks": ""
           },
           "bgcolor": "#E5ECF6",
           "radialaxis": {
            "gridcolor": "white",
            "linecolor": "white",
            "ticks": ""
           }
          },
          "scene": {
           "xaxis": {
            "backgroundcolor": "#E5ECF6",
            "gridcolor": "white",
            "gridwidth": 2,
            "linecolor": "white",
            "showbackground": true,
            "ticks": "",
            "zerolinecolor": "white"
           },
           "yaxis": {
            "backgroundcolor": "#E5ECF6",
            "gridcolor": "white",
            "gridwidth": 2,
            "linecolor": "white",
            "showbackground": true,
            "ticks": "",
            "zerolinecolor": "white"
           },
           "zaxis": {
            "backgroundcolor": "#E5ECF6",
            "gridcolor": "white",
            "gridwidth": 2,
            "linecolor": "white",
            "showbackground": true,
            "ticks": "",
            "zerolinecolor": "white"
           }
          },
          "shapedefaults": {
           "line": {
            "color": "#2a3f5f"
           }
          },
          "ternary": {
           "aaxis": {
            "gridcolor": "white",
            "linecolor": "white",
            "ticks": ""
           },
           "baxis": {
            "gridcolor": "white",
            "linecolor": "white",
            "ticks": ""
           },
           "bgcolor": "#E5ECF6",
           "caxis": {
            "gridcolor": "white",
            "linecolor": "white",
            "ticks": ""
           }
          },
          "title": {
           "x": 0.05
          },
          "xaxis": {
           "automargin": true,
           "gridcolor": "white",
           "linecolor": "white",
           "ticks": "",
           "title": {
            "standoff": 15
           },
           "zerolinecolor": "white",
           "zerolinewidth": 2
          },
          "yaxis": {
           "automargin": true,
           "gridcolor": "white",
           "linecolor": "white",
           "ticks": "",
           "title": {
            "standoff": 15
           },
           "zerolinecolor": "white",
           "zerolinewidth": 2
          }
         }
        },
        "width": 900
       }
      }
     },
     "metadata": {},
     "output_type": "display_data"
    }
   ],
   "source": [
    "# Defining the color scale and labels for the scatter map\n",
    "color_scale = [(0, 'orange'), (1, 'red')]\n",
    "color_labels = {'num_tickets': 'Tickets Sold'}\n",
    "\n",
    "# Scatter map using Plotly Express\n",
    "fig = px.scatter_mapbox(route_ticket_counts,  \n",
    "                        lat=\"latitude_departure\",  # Latitude values for departure locations\n",
    "                        lon=\"longitude_departure\",  # Longitude values for departure locations\n",
    "                        hover_data=['num_tickets'],  \n",
    "                        color=\"num_tickets\",  \n",
    "                        color_continuous_scale=color_scale,  \n",
    "                        size=\"num_tickets\",  # Size of markers based on number of tickets sold\n",
    "                        zoom=2,  \n",
    "                        height=1300,  \n",
    "                        width=900)  \n",
    "\n",
    "# Update the layout of the map\n",
    "fig.update_layout(mapbox_style=\"open-street-map\")  # Set the map style to OpenStreetMap\n",
    "fig.update_layout(margin={\"r\": 0, \"t\": 0, \"l\": 0, \"b\": 0})  # Set all the margins to 0\n",
    "fig.update_coloraxes(colorbar_title=color_labels['num_tickets'])  # Set colorbar title\n",
    "fig.show()\n"
   ]
  },
  {
   "cell_type": "markdown",
   "metadata": {},
   "source": [
    "#### Observations:\n",
    "- The visualization highlights that the majority of departure ticket sales are concentrated near the borders of Europe, particularly around Turkey, and extending towards China. These regions exhibit a higher volume of ticket sales compared to other locations, indicating potentially high travel demand or popularity. \n",
    "- Locations further away from these regions tend to have fewer ticket sales, suggesting comparatively lower travel activity or demand. "
   ]
  },
  {
   "cell_type": "markdown",
   "metadata": {},
   "source": [
    "### 2.3 Analyze least popular route (CEK-SWT)"
   ]
  },
  {
   "cell_type": "code",
   "execution_count": 15,
   "metadata": {},
   "outputs": [
    {
     "name": "stdout",
     "output_type": "stream",
     "text": [
      "Strezhevoy Routes:     departure_airport arrival_airport  num_tickets\n",
      "39                CEK             SWT            8\n",
      "367               SWT             CEK            8 \n",
      "\n",
      "Chelyabinsk Routes:     departure_airport arrival_airport  num_tickets\n",
      "35                CEK             DME         2108\n",
      "36                CEK             IKT          214\n",
      "37                CEK             PEE          655\n",
      "38                CEK             STW          163\n",
      "39                CEK             SWT            8\n",
      "40                CEK             VOG         2115\n",
      "53                DME             CEK         2298\n",
      "125               IKT             CEK          250\n",
      "271               PEE             CEK          869\n",
      "309               STW             CEK          211\n",
      "367               SWT             CEK            8\n",
      "439               VOG             CEK         2211\n",
      "Gorno Routes:     departure_airport arrival_airport  num_tickets\n",
      "289               RGK             SVO           35\n",
      "343               SVO             RGK           51 \n",
      "\n",
      "Nyagan Routes:     departure_airport arrival_airport  num_tickets\n",
      "289               RGK             SVO           35\n",
      "343               SVO             RGK           51 \n",
      "\n"
     ]
    }
   ],
   "source": [
    "# Filter routes that involve Strezhevoy as either departure or arrival city\n",
    "strezhevoy_routes = route_ticket_counts[(route_ticket_counts['city_en_x'] == 'Strezhevoy') | (route_ticket_counts['city_en_y'] == 'Strezhevoy')]\n",
    "print('Strezhevoy Routes:', strezhevoy_routes[['departure_airport', 'arrival_airport', 'num_tickets']], '\\n')\n",
    "\n",
    "# Filter routes that involve Chelyabinsk as either departure or arrival city\n",
    "chelyabinsk_routes = route_ticket_counts[(route_ticket_counts['city_en_x'] == 'Chelyabinsk') | (route_ticket_counts['city_en_y'] == 'Chelyabinsk')]\n",
    "print('Chelyabinsk Routes:', chelyabinsk_routes[['departure_airport', 'arrival_airport', 'num_tickets']])\n",
    "\n",
    "# Filter routes that involve Gorno-Altaysk as either departure or arrival city\n",
    "gorno_routes= route_ticket_counts[(route_ticket_counts['city_en_x'] == 'Gorno-Altaysk') | (route_ticket_counts['city_en_y'] == 'Gorno-Altaysk')]\n",
    "print('Gorno Routes:', gorno_routes[['departure_airport', 'arrival_airport', 'num_tickets']], '\\n')\n",
    "\n",
    "# Filter routes that involve Nyagan as either departure or arrival city\n",
    "nyagan_routes = route_ticket_counts[(route_ticket_counts['city_en_x'] == 'Nyagan') | (route_ticket_counts['city_en_y'] == 'Nyagan')]\n",
    "print('Nyagan Routes:', gorno_routes[['departure_airport', 'arrival_airport', 'num_tickets']], '\\n')\n",
    "\n"
   ]
  },
  {
   "cell_type": "markdown",
   "metadata": {},
   "source": [
    "#### Observations:\n",
    "\n",
    "- Strezhevoy airport flight and ticket sales: As seen in 1.4., Strezhevoy airport runs 5 flights but has sold only 16 tickets in total. This significant discrepancy between available flights and tickets sold points to either a lack of demand for flights from Strezhevoy or potential issues in ticket sales strategies. \n",
    "\n",
    "- All of Strezhevoy airport’s routes are exclusively connected to Chelyabinsk airport. This may suggest a strategic or operational dependency on Chelyabinsk, making the flight network of Strezhevoy highly specialized and limited to a single destination.\n",
    "\n",
    "- Chelyabinsk airport flight and booking discrepancy: Although Chelyabinsk Airport operates 23 flights in 12 routes, there are only 8 bookings per flight to Strezhevoyfor . This low booking rate suggests that the flights between Chelyabinsk and Strezhevoy are underutilized, indicating a possible mismatch between flight capacity and passenger demand.\n",
    "\n",
    "- Even smaller spoke hubs like Nyagan and Gorno-Altaysk, which operate only 3 flights each, have sell 68 tickets. This contrast highlights the particularly low performance of the Strezhevoy route in terms of ticket sales, despite operating more flights."
   ]
  },
  {
   "cell_type": "markdown",
   "metadata": {},
   "source": [
    "## Question 3 - Price Variation by Route: \n",
    "## How do flight prices vary according to destination and time of month?"
   ]
  },
  {
   "cell_type": "code",
   "execution_count": 20,
   "metadata": {},
   "outputs": [
    {
     "name": "stdout",
     "output_type": "stream",
     "text": [
      "       ticket_no  flight_id_x  boarding_no seat_no flight_no  \\\n",
      "0  0005435212351        30625            1      2D    PG0013   \n",
      "1  0005435212351        30625            1      2D    PG0013   \n",
      "2  0005435212386        30625            2      3G    PG0013   \n",
      "3  0005435212386        30625            2      3G    PG0013   \n",
      "4  0005435212381        30625            3      4H    PG0013   \n",
      "\n",
      "      scheduled_departure       scheduled_arrival departure_airport  \\\n",
      "0  2017-07-16 18:15:00+03  2017-07-16 20:00:00+03               AER   \n",
      "1  2017-07-16 18:15:00+03  2017-07-16 20:00:00+03               AER   \n",
      "2  2017-07-16 18:15:00+03  2017-07-16 20:00:00+03               AER   \n",
      "3  2017-07-16 18:15:00+03  2017-07-16 20:00:00+03               AER   \n",
      "4  2017-07-16 18:15:00+03  2017-07-16 20:00:00+03               AER   \n",
      "\n",
      "  arrival_airport   status  ... longitude_departure latitude_arrival  \\\n",
      "0             SVO  Arrived  ...             39.9566        55.972599   \n",
      "1             SVO  Arrived  ...             39.9566        55.972599   \n",
      "2             SVO  Arrived  ...             39.9566        55.972599   \n",
      "3             SVO  Arrived  ...             39.9566        55.972599   \n",
      "4             SVO  Arrived  ...             39.9566        55.972599   \n",
      "\n",
      "  longitude_arrival flight_id_y fare_conditions amount book_ref passenger_id  \\\n",
      "0           37.4146       30625        Business  42100   BEAA38  9933 118369   \n",
      "1           37.4146        7744        Business  42100   BEAA38  9933 118369   \n",
      "2           37.4146       30625        Business  42100   EBE41D  6788 033215   \n",
      "3           37.4146        7726         Economy  14000   EBE41D  6788 033215   \n",
      "4           37.4146       30625        Business  42100   86D03C  6754 366923   \n",
      "\n",
      "                book_date total_amount  \n",
      "0  2017-06-29 08:47:00+03       112200  \n",
      "1  2017-06-29 08:47:00+03       112200  \n",
      "2  2017-06-29 09:13:00+03        56100  \n",
      "3  2017-06-29 09:13:00+03        56100  \n",
      "4  2017-06-30 22:23:00+03        84100  \n",
      "\n",
      "[5 rows x 38 columns]\n"
     ]
    }
   ],
   "source": [
    "# Merge boarding_flights_airport DataFrame with ticket_flights DataFrame based on variable 'ticket_no' to get price of ticket\n",
    "merge_1 = pd.merge(boarding_flights_airport, ticket_flights, how='inner', on='ticket_no')\n",
    "merge_2 = pd.merge(merge_1, tickets, how='inner', on='ticket_no')\n",
    "boarding_flights_airport_amount = pd.merge(merge_2, bookings, how='inner', on='book_ref')\n",
    "print(boarding_flights_airport_amount.head(5))"
   ]
  },
  {
   "cell_type": "markdown",
   "metadata": {},
   "source": [
    "### 3.1 Daily Price of Popular Route"
   ]
  },
  {
   "cell_type": "code",
   "execution_count": 21,
   "metadata": {},
   "outputs": [
    {
     "data": {
      "image/png": "[encoded data removed]",
      "text/plain": [
       "<Figure size 600x600 with 1 Axes>"
      ]
     },
     "metadata": {},
     "output_type": "display_data"
    },
    {
     "name": "stdout",
     "output_type": "stream",
     "text": [
      "count     66534.000000\n",
      "mean      21049.185379\n",
      "std       28412.324929\n",
      "min        5900.000000\n",
      "25%        6300.000000\n",
      "50%        9800.000000\n",
      "75%       18800.000000\n",
      "max      199300.000000\n",
      "Name: amount, dtype: float64\n"
     ]
    }
   ],
   "source": [
    "pop_route = boarding_flights_airport_amount[(boarding_flights_airport_amount['city_en_x'] == 'Moscow') & (boarding_flights_airport_amount['city_en_y'] == 'St. Petersburg')]\n",
    "\n",
    "plt.figure(figsize=(6, 6))\n",
    "sns.boxplot(data=pop_route,  y='amount')\n",
    "plt.title('Distribution of Daily Prices for Popular Route: Moscow -> St. Petersburg')\n",
    "plt.ylabel('Prices [Ruble]')\n",
    "plt.show()\n",
    "\n",
    "dist_pop = pop_route['amount'].describe()\n",
    "print(dist_pop)\n"
   ]
  },
  {
   "cell_type": "markdown",
   "metadata": {},
   "source": [
    "Observations:\n",
    "\n",
    "The significant difference between the mean (21049.19) and the median (9800) and as also observed in the boxplot, there are significant outliers in the price of tickets in this route, especially considering the maximum value of 199300 and the high standard deviation (28412.32).\n",
    "\n",
    "Given that the mean is significantly higher than the median, this indicates the presence of outliers that are pulling the mean upwards. For that reason, I considered the median a better measure of central tendency for the prices, as it's not affected by outliers and provides a more representative view of the \"typical\" or \"central\" price.\n",
    "\n",
    "Let's visualize the daily median price per day:"
   ]
  },
  {
   "cell_type": "code",
   "execution_count": 22,
   "metadata": {},
   "outputs": [
    {
     "data": {
      "image/png": "[encoded data removed]",
      "text/plain": [
       "<Figure size 1400x700 with 1 Axes>"
      ]
     },
     "metadata": {},
     "output_type": "display_data"
    }
   ],
   "source": [
    "# Calculate the daily median price per flight for the popular route: Moscow -> St. Petersburg\n",
    "daily_med_price_pop = pop_route.groupby(pop_route['date_arrival'].dt.date)['amount'].mean().reset_index()\n",
    "\n",
    "daily_med_price_pop.columns = ['date_arrival', 'amount']\n",
    "\n",
    "# Convert 'date_arrival' column to datetime format\n",
    "daily_med_price_pop['date_arrival'] = pd.to_datetime(daily_med_price_pop['date_arrival'])\n",
    "\n",
    "# Plot the line graph\n",
    "plt.figure(figsize=(14, 7))  \n",
    "sns.lineplot(data=daily_med_price_pop, x='date_arrival', y='amount')  \n",
    "plt.title('Daily Median Price per Flight for Popular Route: Moscow -> St. Petersburg')  \n",
    "plt.xlabel('Date')  \n",
    "plt.ylabel('Median Price [Ruble]')  \n",
    "plt.xticks(rotation=45)  \n",
    "plt.tight_layout()  \n",
    "plt.show() \n"
   ]
  },
  {
   "cell_type": "markdown",
   "metadata": {},
   "source": [
    "### 3.2 Comparison of median flight prices across different days of the week"
   ]
  },
  {
   "cell_type": "code",
   "execution_count": 23,
   "metadata": {},
   "outputs": [
    {
     "name": "stderr",
     "output_type": "stream",
     "text": [
      "C:\\Users\\user\\AppData\\Local\\Temp\\ipykernel_9704\\3995493928.py:16: FutureWarning:\n",
      "\n",
      "\n",
      "\n",
      "Passing `palette` without assigning `hue` is deprecated and will be removed in v0.14.0. Assign the `x` variable to `hue` and set `legend=False` for the same effect.\n",
      "\n",
      "\n"
     ]
    },
    {
     "data": {
      "image/png": "[encoded data removed]",
      "text/plain": [
       "<Figure size 1400x700 with 1 Axes>"
      ]
     },
     "metadata": {},
     "output_type": "display_data"
    }
   ],
   "source": [
    "# Adding a new column 'day_of_week' containing the name of the day of the week\n",
    "daily_med_price_pop['day_of_week'] = daily_med_price_pop['date_arrival'].dt.day_name()\n",
    "\n",
    "color = {\n",
    "    'Monday': 'skyblue', \n",
    "    'Tuesday': 'lightgreen', \n",
    "    'Wednesday': 'lightcoral', \n",
    "    'Thursday': 'lightsalmon', \n",
    "    'Friday': 'lightpink', \n",
    "    'Saturday': 'lightyellow', \n",
    "    'Sunday': 'lightgray'\n",
    "}\n",
    "\n",
    "# Create a boxplot by day of the week\n",
    "plt.figure(figsize=(14, 7))  \n",
    "sns.boxplot(data=daily_med_price_pop, x='day_of_week', y='amount', palette=color, order=['Monday', 'Tuesday', 'Wednesday', 'Thursday', 'Friday', 'Saturday', 'Sunday'])\n",
    "plt.title('Boxplot of Prices by Day of the Week')  \n",
    "plt.xlabel('Day of the Week')  \n",
    "plt.ylabel('Amount')  \n",
    "plt.show()  \n",
    "\n"
   ]
  },
  {
   "cell_type": "markdown",
   "metadata": {},
   "source": [
    "#### Observations:\n",
    "\n",
    "* The median of the boxplots for all days of the week is consistent: within a range of 20000-21000 rubles. This suggests that there is no significant difference in prices between different days of the week.\n",
    "\n",
    "* Mondays tend to have the lowest median price among all days of the week.\n",
    "\n",
    "* Tuesdays, Wednesdays, and Sundays exhibit the highest dispersion of amount values, as indicated by the longer boxplot. This suggests that prices vary more on these days compared to others.\n",
    "\n",
    "* Except for Tuesdays, all days exhibit negative skewness of values, indicating that the distribution of prices is skewed towards higher values.\n",
    "\n",
    "* Tuesday stands out as having the lowest minimum value, suggesting it may be the day of the week with the lowest prices for travel between Moscow and St. Petersburg. However, there is a considerable dispersion of values ranging from 19000 to 23500 rubles on Tuesdays.\n",
    "\n",
    "* Thursdays and Saturdays have both outliers and lack an upper whisker in their boxplots. However, both days exhibit the lowest dispersion of values, typically around 2000 rubles.\n"
   ]
  },
  {
   "cell_type": "markdown",
   "metadata": {},
   "source": [
    "### 3.3 Study the effect of booking time on ticket price of Popular Route"
   ]
  },
  {
   "cell_type": "code",
   "execution_count": 52,
   "metadata": {},
   "outputs": [],
   "source": [
    "# Converting dates to datetime format\n",
    "boarding_flights_airport_amount['date_booking'] = pd.to_datetime(boarding_flights_airport_amount['book_date'])\n",
    "\n",
    "# Calculating the time difference between ticket purchase and flight date\n",
    "boarding_flights_airport_amount['time_to_flight'] = (boarding_flights_airport_amount['date_arrival'] - boarding_flights_airport_amount['date_booking']).dt.days\n"
   ]
  },
  {
   "cell_type": "code",
   "execution_count": 60,
   "metadata": {},
   "outputs": [
    {
     "data": {
      "image/png": "[encoded data removed]",
      "text/plain": [
       "<Figure size 1800x600 with 3 Axes>"
      ]
     },
     "metadata": {},
     "output_type": "display_data"
    }
   ],
   "source": [
    "\n",
    "fig, axs = plt.subplots(1, 3, figsize=(18, 6))\n",
    "\n",
    "# Median Ticket Price\n",
    "median_price_by_time = boarding_flights_airport_amount.groupby(['time_to_flight', 'fare_conditions'])['amount'].median().unstack()\n",
    "median_price_by_time.plot(ax=axs[0])\n",
    "axs[0].set_xlabel('Time to Flight (days)')\n",
    "axs[0].set_ylabel('Median Ticket Price')\n",
    "axs[0].set_title('Trend of Median Ticket Price Over Time by Fare Conditions')\n",
    "axs[0].grid(True)\n",
    "axs[0].legend(title='Fare Conditions')\n",
    "\n",
    "# Minimum Ticket Price\n",
    "min_price_by_time = boarding_flights_airport_amount.groupby(['time_to_flight', 'fare_conditions'])['amount'].min().unstack()\n",
    "min_price_by_time.plot(ax=axs[1])\n",
    "axs[1].set_xlabel('Time to Flight (days)')\n",
    "axs[1].set_ylabel('Minimum Ticket Price')\n",
    "axs[1].set_title('Trend of Minimum Ticket Price Over Time')\n",
    "axs[1].grid(True)\n",
    "\n",
    "# Maximum Ticket Price\n",
    "max_price_by_time = boarding_flights_airport_amount.groupby(['time_to_flight', 'fare_conditions'])['amount'].max().unstack()\n",
    "max_price_by_time.plot(ax=axs[2])\n",
    "axs[2].set_xlabel('Time to Flight (days)')\n",
    "axs[2].set_ylabel('Maximum Ticket Price')\n",
    "axs[2].set_title('Trend of Maximum Ticket Price Over Time')\n",
    "axs[2].grid(True)\n",
    "\n",
    "plt.tight_layout()\n",
    "plt.show()\n"
   ]
  },
  {
   "cell_type": "code",
   "execution_count": 49,
   "metadata": {},
   "outputs": [
    {
     "name": "stdout",
     "output_type": "stream",
     "text": [
      "Test of t- Student : -9.684043683275247\n",
      "Student's t-test - p-value: 3.529072836934607e-22\n"
     ]
    }
   ],
   "source": [
    "early_purchase = boarding_flights_airport_amount[boarding_flights_airport_amount['time_to_flight'] <= 30]['amount']\n",
    "late_purchase = boarding_flights_airport_amount[boarding_flights_airport_amount['time_to_flight'] > 30]['amount']\n",
    "t_stat, p_value = ttest_ind(early_purchase, late_purchase)\n",
    "\n",
    "print(\"Test of t- Student :\", t_stat)\n",
    "print(\"Student's t-test - p-value:\", p_value)"
   ]
  },
  {
   "cell_type": "markdown",
   "metadata": {},
   "source": [
    "#### Observations:\n",
    "\n",
    "* As the Student's t-test compares the means of two groups to determine if there is a statistically significant difference between them. In this case, the very low p-value (3.529072836934607e-22) and the negative t-statistic (-9.68) indicate that there is a significant difference in ticket prices between the groups of bookings made more than 30 days in advance and the groups of bookings made with 30 days or less in advance.\n",
    "\n",
    "* Based on the results of the Student's t-test, I conclude that there is a statistically significant difference in ticket prices between the two purchase groups, indicating that the time of the booking significantly influences ticket prices. \n",
    "\n",
    "* It may be more advantageous in terms of price to buy flight tickets for this route with a lead time of 30 days or more compared to a lead time of less than 30 days."
   ]
  }
 ],
 "metadata": {
  "kernelspec": {
   "display_name": "Python 3",
   "language": "python",
   "name": "python3"
  },
  "language_info": {
   "codemirror_mode": {
    "name": "ipython",
    "version": 3
   },
   "file_extension": ".py",
   "mimetype": "text/x-python",
   "name": "python",
   "nbconvert_exporter": "python",
   "pygments_lexer": "ipython3",
   "version": "3.11.4"
  }
 },
 "nbformat": 4,
 "nbformat_minor": 2
}
